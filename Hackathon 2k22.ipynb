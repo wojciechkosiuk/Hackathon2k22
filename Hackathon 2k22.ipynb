{
 "cells": [
  {
   "cell_type": "code",
   "execution_count": 1,
   "id": "3403da46",
   "metadata": {},
   "outputs": [],
   "source": [
    "import pandas as pd\n",
    "import numpy as np"
   ]
  },
  {
   "cell_type": "code",
   "execution_count": 2,
   "id": "a68a9eea",
   "metadata": {},
   "outputs": [
    {
     "name": "stdout",
     "output_type": "stream",
     "text": [
      "Requirement already satisfied: PyPDF2 in c:\\users\\wkosi\\anaconda3\\lib\\site-packages (2.11.1)\n",
      "Requirement already satisfied: typing-extensions>=3.10.0.0 in c:\\users\\wkosi\\anaconda3\\lib\\site-packages (from PyPDF2) (4.3.0)\n",
      "Note: you may need to restart the kernel to use updated packages.\n"
     ]
    }
   ],
   "source": [
    "pip install PyPDF2"
   ]
  },
  {
   "cell_type": "code",
   "execution_count": 52,
   "id": "8325997e",
   "metadata": {},
   "outputs": [
    {
     "name": "stdout",
     "output_type": "stream",
     "text": [
      "Collecting pdfplumber\n",
      "  Downloading pdfplumber-0.7.5-py3-none-any.whl (40 kB)\n",
      "Collecting Wand>=0.6.10\n",
      "  Downloading Wand-0.6.10-py2.py3-none-any.whl (142 kB)\n",
      "Collecting pdfminer.six==20220524\n",
      "  Downloading pdfminer.six-20220524-py3-none-any.whl (5.6 MB)\n",
      "Collecting Pillow>=9.1\n",
      "  Downloading Pillow-9.2.0-cp38-cp38-win_amd64.whl (3.3 MB)\n",
      "Collecting charset-normalizer>=2.0.0\n",
      "  Downloading charset_normalizer-3.0.0-cp38-cp38-win_amd64.whl (95 kB)\n",
      "Collecting cryptography>=36.0.0\n",
      "  Downloading cryptography-38.0.1-cp36-abi3-win_amd64.whl (2.4 MB)\n",
      "Requirement already satisfied: cffi>=1.12 in c:\\users\\wkosi\\anaconda3\\lib\\site-packages (from cryptography>=36.0.0->pdfminer.six==20220524->pdfplumber) (1.14.5)\n",
      "Requirement already satisfied: pycparser in c:\\users\\wkosi\\anaconda3\\lib\\site-packages (from cffi>=1.12->cryptography>=36.0.0->pdfminer.six==20220524->pdfplumber) (2.20)\n",
      "Installing collected packages: cryptography, charset-normalizer, Wand, Pillow, pdfminer.six, pdfplumber\n",
      "  Attempting uninstall: cryptography\n",
      "    Found existing installation: cryptography 3.4.7\n",
      "    Uninstalling cryptography-3.4.7:\n",
      "      Successfully uninstalled cryptography-3.4.7\n",
      "  Attempting uninstall: Pillow\n",
      "    Found existing installation: Pillow 8.2.0\n",
      "    Uninstalling Pillow-8.2.0:\n",
      "      Successfully uninstalled Pillow-8.2.0\n",
      "Successfully installed Pillow-9.2.0 Wand-0.6.10 charset-normalizer-3.0.0 cryptography-38.0.1 pdfminer.six-20220524 pdfplumber-0.7.5\n",
      "Note: you may need to restart the kernel to use updated packages.\n"
     ]
    }
   ],
   "source": [
    "pip install pdfplumber"
   ]
  },
  {
   "cell_type": "code",
   "execution_count": 53,
   "id": "f8ea3845",
   "metadata": {},
   "outputs": [],
   "source": [
    "import pdfplumber\n",
    "\n",
    "def extract(file_name):\n",
    "    # podajesz nazwe pliku i otrzymujesz string z calej zawartosci i NAZWE_SUBFUNDUSZU znaleziona w pliku\n",
    "\n",
    "    pdf = pdfplumber.open(file_name)\n",
    "    \n",
    "    \n",
    "    \n",
    "    full_text = \"\"\n",
    "    for page in pdf.pages:\n",
    "        full_text += page.extract_text()\n",
    "        full_text += \"\\n\"\n",
    "\n",
    "    return full_text"
   ]
  },
  {
   "cell_type": "code",
   "execution_count": 91,
   "id": "647be6e1",
   "metadata": {},
   "outputs": [],
   "source": [
    "file_name = \"KIID_BNP_Paribas_DI_2022-09-21.pdf\"\n",
    "file_name2 = \"kid0608.pdf\"\n",
    "file_name3 = \"kiidpko.pdf\""
   ]
  },
  {
   "cell_type": "code",
   "execution_count": 92,
   "id": "11378f99",
   "metadata": {
    "scrolled": true
   },
   "outputs": [
    {
     "data": {
      "text/plain": [
       "'Kluczowe Informacje dla Inwestorów\\nNiniejszy dokument zawiera kluczowe informacje dla inwestorów dotyczące tego funduszu. Nie są to materiały marketingowe. Dostarczenie tych \\ninformacji jest wymogiem prawnym mającym na celu ułatwienie zrozumienia charakteru i ryzyka związanego z inwestowaniem w ten fundusz. \\nPrzeczytanie niniejszego dokumentu jest zalecane inwestorowi, aby mógł on podjąć świadomą decyzję inwestycyjną.\\nBNP Paribas Dynamicznego Inwestowania\\nKategoria A reprezentatywna również dla jednostek uczestnictwa kategorii C \\nSubfundusz wydzielony w ramach: BNP Paribas Funduszu Inwestycyjnego Otwartego (do 15.01.2020 r. działał pod nazwą BGŻ BNP Paribas Fundusz Inwestycyjny\\nOtwarty) Fundusz jest wpisany do rejestru funduszy inwestycyjnych pod nr RFi 1650\\nFundusz jest zarządzany przez spółkę BNP Paribas Towarzystwo Funduszy Inwestycyjnych S.A., wchodzącą w skład Grupy Kapitałowej BNP Paribas\\nCele i polityka inwestycyjna\\nCelem inwestycyjnym Subfunduszu jest wzrost wartości Aktywów  i instytucji wspólnego inwestowania.\\nSubfunduszu w wyniku wzrostu wartości lokat.\\nFundusz może zawierać umowy mające za przedmiot instrumenty\\nZ  uwzględnieniem  zdania  następnego,  Fundusz  może  lokować  pochodne w celu ograniczenia ryzyka oraz zapewnienia sprawnego\\nod 70% do 110% Wartości Aktywów Netto Subfunduszu w akcje oraz  zarządzania portfelem.\\ninne instrumenty o charakterze udziałowym, tj. prawa do akcji, prawa \\nSubfundusz zbywa jednostki uczestnictwa kategorii A bez ograniczeń,\\npoboru, warranty subskrypcyjne, obligacje zamienne na akcje i kwity \\nkategoria C jest zbywana w ramach oferowanych przez Fundusz\\ndepozytowe. Przy stosowaniu limitu, o którym mowa w zdaniu \\nróżnych  programów  inwestycyjnych  takich  jak  przykładowo\\npoprzedzającym,  Fundusz  jest  obowiązany  uwzględniać  kwotę \\npracownicze programy emerytalne.\\nzaangażowania  w  Instrumenty  Pochodne  oraz  wartość  praw \\nSubfundusz  nie  wypłaca  dywidend.  Dochody  Subfunduszu\\ndo nowych emisji akcji.\\npowiększają jego aktywa i są reinwestowane.\\nFundusz może lokować od 0% do 30% Wartości Aktywów Netto \\nFundusz zbywa i odkupuje Jednostki Uczestnictwa w każdym Dniu\\nSubfunduszu w instrumenty o charakterze dłużnym, tj. obligacje, bony \\nWyceny.\\nskarbowe, listy zastawne, certyfikaty depozytowe, Instrumenty Rynku \\nPieniężnego. Instrumenty dłużne, w które lokowane  są  aktywa  Wzorcem  (benchmarkiem)  służącym  do  oceny  efektywności\\nSubfunduszu,  mogą  być  emitowane  przez  przedsiębiorstwa,  inwestycji w Jednostki Uczestnictwa Subfunduszu jest stopa zwrotu\\nwładze publiczne lub inne podmioty. składająca się w 60% ze stopy zwrotu z indeksu WIG20, 30% ze stopy\\nzwrotu z indeksu mWIG40 oraz 10% ze stawki WIBID O/N.\\nFundusz może inwestować do 20% wartości Aktywów Subfunduszu \\nłącznie w jednostki uczestnictwa innych funduszy inwestycyjnych  Zalecenie:  Niniejszy  Subfundusz  może  nie  być  odpowiedni\\notwartych oraz tytuły uczestnictwa innych funduszy zagranicznych dla inwestorów, którzy planują wycofać swoje środki w ciągu 5 lat.\\nProfil ryzyka i zysku\\nRyzyko kontrahenta: umowy zawierane z określonymi kontrahentami \\n1 2 3 4 5 6 7\\nsą narażone na ewentualne niewywiązanie się tych kontrahentów \\nz umów zawartych z Subfunduszem, co w efekcie może doprowadzić \\nNiższe ryzyko/Potencjalnie niższe zyski Wyższe ryzyko/Potencjalnie wyższe zyski\\ndo spadku wartości aktywów Subfunduszu.\\nSyntetyczny wskaźnik zysku do ryzyka stanowi miarę zmienności\\nwartości jednostki uczestnictwa. Dane historyczne, takie jak dane Ryzyko płynności: niska płynność oznacza, iż nie ma wystarczającej \\nstosowane  przy  obliczaniu  wskaźnika  syntetycznego,  nie  dają ilości kupujących lub sprzedających dany instrument finansowy, \\npewności co do przyszłego profilu zysku i ryzyka Subfunduszu. co powoduje, że Subfundusz nie będzie mógł efektywnie sprzedać \\nPrzypisanie Subfunduszu do określonej kategorii może z czasem ulec lub kupić danych instrumentów finansowych.\\nzmianie.  Najniższa  kategoria  nie  oznacza  inwestycji  wolnych Ryzyko operacyjne/ryzyko związane z przechowywaniem aktywów: \\nod ryzyka. zdarzenia  zewnętrzne  oraz  błędy  operacyjne,  takie  jak  np. \\nWskaźnik kwalifikuje Subfundusz do kategorii 6 co oznacza, że nabycie niewłaściwa kontrola wewnętrzna, błędy systemów informatycznych \\njego  jednostek  uczestnictwa  wiąże  się  z  wysokim  ryzykiem oraz błędy ludzkie mogą doprowadzić do spadku wartości aktywów \\nponiesienia straty. Subfunduszu.\\nZ  inwestycją  w  jednostki  uczestnictwa  Subfunduszu  wiążą  się Ryzyko  inwestycji  w  instrumenty  pochodne:  stosowanie \\nnastępujące ryzyka, które nie są odpowiednio uwzględnione przez instrumentów pochodnych może zwiększyć ryzyko inwestycji.\\nwskaźnik: Szczegółowe informacje na temat ryzyk związanych\\nRyzyko kredytowe: nabywanie dłużnych papierów wartościowych z  inwestowaniem  w  Subfundusz  znajdują  się  w  prospekcie \\nzwiązane jestz ryzykiem ewentualnego braku możliwości wywiązania informacyjnym Funduszu w Rozdziale IV w części: Subfundusz BNP \\nsię  przez  emitenta  danego  dłużnego  papieru  ze  zobowiązań Paribas Dynamicznego Inwestowania, pkt. 1.\\nwynikających z tego dłużnego papieru wartościowego.\\nOpłaty\\nOpłaty jednorazowe pobierane przed lub po dokonaniu inwestycji Opłaty ponoszone przez inwestora służą pokryciu kosztów działania Subfunduszu, \\nw tym kosztów dystrybucji i wprowadzenia do obrotu. Opłaty te zmniejszają \\nOpłata za nabycie 5,00% potencjalny wzrost z inwestycji w Subfundusz. \\nW przypadku opłaty za nabycie oraz opłaty za umorzenie podawana jest zawsze \\nJest to maksymalna kwota, jaka może zostać pobrana z Państwa\\nmaksymalna wysokość opłat, pomimo iż w niektórych przypadkach opłaty te \\nśrodków przed zainwestowaniem mogą być niższe.\\nOpłata za zamianę stanowi różnicę między obowiązującą opłatą za zbywanie \\nOpłata za odkupienie 0,00%\\njednostek  uczestnictwa  w  subfunduszu  którego  jednostki  uczestnictwa  są \\nJest to maksymalna kwota, jaka może zostać pobrana z Państwa nabywane  w  ramach  zlecenia  zamiany,  a  pobraną  od  uczestnika  opłatą \\nśrodków przed wypłaceniem środków z inwestycji manipulacyjną za zbywanie jednostek uczestnictwa w subfunduszu, którego \\njednostki uczestnictwa są odkupywane. Maksymalna wysokość opłaty za zamianę \\nOpłaty pobierane z Subfunduszu w ciągu roku nie może przekroczyć 1,25% wartości jednostek uczestnictwa podlegających \\nzamianie. \\nOpłaty bieżące 2,81% Opłata za konwersję stanowi różnicę między obowiązującą opłatą za nabycie \\njednostek uczestnictwa w funduszu docelowym, a pobraną od Uczestnika opłatą \\nOpłaty pobierane z Subfunduszu w określonych warunkach za  nabycie  jednostek  uczestnictwa  w  funduszu  źródłowym.  Maksymalna \\nszczególnych wysokość  opłaty  za  konwersję  nie  może  być  wyższa  niż  1,25%  wartości \\nkonwertowanych jednostek uczestnictwa. \\nOpłaty za wyniki 0,00%\\nPodana wysokość rocznych opłat bieżących opiera się na wydatkach roku \\nfinansowego zakończonego w grudniu 2021 roku. Wysokość opłat bieżących może \\nulegać zmianom z roku na rok. \\nTowarzystwo może pobrać wynagrodzenie zmienne za zarządzanie. Jest to \\nuzależnione od wyników zarządzania Subfunduszem w wysokości nie wyższej niż  \\n20% wzrostu Wartości Aktywów Netto Subfunduszu na Jednostkę Uczestnictwa \\nponad stopę równą zmianie wartości „Indeksu Odniesienia” zdefiniowanego w \\nstatucie.\\nSzczegółowe informacje dotyczące opłat zostały opisane w Rozdziale IV w części: \\nSubfundusz  BNP  Paribas  Dynamicznego  Inwestowania,  w  pkt.  5.  prospektu \\ninformacyjnego  Funduszu  oraz  są  zawarte  w  Tabeli  Opłat  dostępnej  u \\nWyniki osiągnięte w przeszłości\\ndystrybutorów oraz na stronie internetowej Towarzystwa.\\n25% Wyniki osiągnięte przez Subfundusz w przeszłości nie stanowią gwarancji \\nosiągnięcia identycznych lub podobnych wyników w przyszłości.\\n20%\\nWykres  wskazuje  wynik  Subfunduszu  z  uwzględnieniem  kosztów \\n15% ponoszonych przez Subfundusz. Podczas obliczeń pominięte zostały opłaty \\n10% za nabycie i odkupienie.\\n5% Data pierwszej wyceny Subfunduszu: 31 marca 2016 r.\\nPoziomem referencyjnym służącym do oceny wyniku Subfunduszu jest \\n0%\\nstopa zwrotu składająca się w 60% ze stopy zwrotu z indeksu WIG20, 30% \\n-5% ze stopy zwrotu z indeksu mWIG40 oraz 10% ze stawki WIBID O/N.\\n-10%\\n-15%\\n2012 2013 2014 2015 2016 2017 2018 2019 2020 2021\\n- - - - - 17,6% -12,8% 0,8% -0,5% 21,9%\\n- - - - - 20,4% -10,1% -3,1% -3,5% 17,0%\\n    Stopa zwrotu jednostek uczestnictwa     Benchmark\\nInformacje praktyczne\\nDepozytariuszem jest Deutsche Bank Polska S.A. Fundusz przewiduje możliwość konwersji Jednostek Uczestnictwa Subfunduszu \\nna jednostki uczestnictwa innego funduszu zarządzanego przez Towarzystwo \\nSubfundusz jest jednym z subfunduszy wydzielonym w ramach funduszu \\npod warunkiem, że statut funduszu, do którego są konwertowane Jednostki \\nBNP Paribas Funduszu Inwestycyjnego Otwartego (BNP Paribas FIO) w \\nUczestnictwa określa dopuszczalność konwersji do takiego funduszu. Sposób i \\nzwiązku  z  tym  prospekt  informacyjny  oraz  roczne  i  półroczne \\nszczegółowe warunki konwersji reguluje prospekt informacyjny Funduszu.\\nsprawozdania finansowe sporządzane są dla całego funduszu BNP Paribas \\nFIO. Subfundusz  został  utworzony  w  ramach  funduszu  BNP  Paribas  FIO  (do \\n15.01.2020 r. działającego pod nazwą BGŻ BNP Paribas FIO) na podstawie \\nŻeby chronić inwestorów, aktywa i zobowiązania każdego subfunduszu są z \\nzezwolenia  udzielonego  przez  Komisję  Nadzoru  Finansowego  (KNF)  na \\nmocy  prawa  oddzielone  od  aktywów  i  zobowiązań  pozostałych \\nprowadzenie działalności na terenie Rzeczypospolitej Polskiej i podlega jej \\nsubfunduszy.\\nnadzorowi.\\nProspekt informacyjny wraz ze statutem BNP Paribas FIO obejmującym \\nSubfundusz  jest  zarządzany  przez  BNP  Paribas  Towarzystwo  Funduszy \\nSubfundusz,  roczne  i  półroczne  sprawozdania  finansowe  i  inne \\nInwestycyjnych S.A. z siedzibą przy ul. Grzybowskiej 78, 00-844 Warszawa, \\nsprawozdania okresowe, tabele opłat oraz inne dodatkowe informacje \\nwpisane do Krajowego Rejestru Sądowego prowadzonego przez Sąd Rejonowy \\ndotyczące Subfunduszu dostępne są w języku polskim bezpłatnie, na \\ndla m.st. Warszawy w Warszawie, XII Wydział Gospodarczy Krajowego Rejestru \\nstronie  internetowej  www.tfi.bnpparibas.pl  a  także  w  siedzibie \\nSądowego,  pod  numerem  KRS  0000031121,  o  kapitale  zakładowym  w \\nTowarzystwa  przy  ul.  Grzybowskiej  78,  00-844  w  Warszawie  oraz  u \\nwysokości  16  692  612,00  zł  opłaconym  w  całości,  NIP:  526-02-10-808,\\ndystrybutorów.\\n(Towarzystwo).\\nDodatkowo  informacja  o  Subfunduszu  w  tym  także  informacje  o \\nTowarzystwo wdrożyło Politykę Wynagrodzeń, która jest dostępna na stronie \\naktualnej  oraz  historycznej  wartości  Jednostki  Uczestnictwa  można \\ninternetowej www.tfi.bnpparibas.pl/polityki-iregulaminy.\\nuzyskać telefonicznie pod numerem 22 588 18 87.\\nTowarzystwo  może  zostać  pociągnięte  do  odpowiedzialności  za  każde \\nPrzepisy podatkowe w Rzeczypospolitej Polskiej mogą mieć wpływ na \\noświadczenie zawarte w niniejszym dokumencie, które wprowadza w błąd, jest \\nosobistą sytuację podatkową inwestora.\\nniezgodne ze stanem faktycznym lub niespójne z odpowiednimi częściami \\nFundusz  przewiduje  możliwości  zamiany  Jednostek  Uczestnictwa  prospektu informacyjnego BNP Paribas FIO.\\nSubfunduszu na jednostki uczestnictwa pozostałych subfunduszy w ramach \\nBNP Paribas FIO. Szczegóły opisane są w Prospekcie Informacyjnym.\\nNiniejsze kluczowe informacje dla Inwestorów są aktualne na dzień 21.09.2022 roku\\n'"
      ]
     },
     "execution_count": 92,
     "metadata": {},
     "output_type": "execute_result"
    }
   ],
   "source": [
    "extract(file_name)"
   ]
  },
  {
   "cell_type": "code",
   "execution_count": 93,
   "id": "9fbf4b2a",
   "metadata": {},
   "outputs": [],
   "source": [
    "text = extract(file_name)\n",
    "#text2 = extract(file_name2)\n",
    "text3 = extract(file_name3)"
   ]
  },
  {
   "cell_type": "markdown",
   "id": "dd07b83d",
   "metadata": {},
   "source": [
    "# Tworzenie kolumn"
   ]
  },
  {
   "cell_type": "markdown",
   "id": "360ede98",
   "metadata": {},
   "source": [
    "3."
   ]
  },
  {
   "cell_type": "code",
   "execution_count": 94,
   "id": "4bf0dd6f",
   "metadata": {},
   "outputs": [
    {
     "data": {
      "text/plain": [
       "'BNP Paribas Dynamicznego Inwestowania'"
      ]
     },
     "execution_count": 94,
     "metadata": {},
     "output_type": "execute_result"
    }
   ],
   "source": [
    "start_vec = text.split(\"inwestycyjną\")[1].split(\"\\n\")\n",
    "NAZWA_SUBFUNDUSZU = [x for x in start_vec  if len(x)>2][0]\n",
    "NAZWA_SUBFUNDUSZU"
   ]
  },
  {
   "cell_type": "code",
   "execution_count": 95,
   "id": "eca1b52d",
   "metadata": {},
   "outputs": [
    {
     "data": {
      "text/plain": [
       "'PKO Zabezpieczenia Emerytalnego 2030 '"
      ]
     },
     "execution_count": 95,
     "metadata": {},
     "output_type": "execute_result"
    }
   ],
   "source": [
    "start_vec = text3.split(\"inwestycyjną\")[1].split(\"\\n\")\n",
    "[x for x in start_vec  if len(x)>2][0]"
   ]
  },
  {
   "cell_type": "markdown",
   "id": "6cdee4c8",
   "metadata": {},
   "source": [
    "7."
   ]
  },
  {
   "cell_type": "code",
   "execution_count": 59,
   "id": "9eb93d77",
   "metadata": {},
   "outputs": [],
   "source": [
    "import re"
   ]
  },
  {
   "cell_type": "code",
   "execution_count": 60,
   "id": "b845d494",
   "metadata": {
    "collapsed": true
   },
   "outputs": [
    {
     "data": {
      "text/plain": [
       "['2020',\n",
       " '1650',\n",
       " '2021',\n",
       " '2016',\n",
       " '2012',\n",
       " '2013',\n",
       " '2014',\n",
       " '2015',\n",
       " '2016',\n",
       " '2017',\n",
       " '2018',\n",
       " '2019',\n",
       " '2020',\n",
       " '2021',\n",
       " '2020',\n",
       " '2022']"
      ]
     },
     "execution_count": 60,
     "metadata": {},
     "output_type": "execute_result"
    }
   ],
   "source": [
    "re.findall(r'\\b\\d{4}\\b',text)"
   ]
  },
  {
   "cell_type": "markdown",
   "id": "1b08d264",
   "metadata": {},
   "source": [
    "8."
   ]
  },
  {
   "cell_type": "code",
   "execution_count": 163,
   "id": "036465ce",
   "metadata": {},
   "outputs": [
    {
     "name": "stderr",
     "output_type": "stream",
     "text": [
      "Loading: 100%|█████████████████████████████████████████████████████| 11368252/11368252 [00:20<00:00, 1462637.55bytes/s]"
     ]
    }
   ],
   "source": [
    "from stempel import StempelStemmer\n",
    "stemmer = StempelStemmer.polimorf()"
   ]
  },
  {
   "cell_type": "code",
   "execution_count": 226,
   "id": "543432e2",
   "metadata": {},
   "outputs": [],
   "source": [
    "# zawsze występuje odmiana słowa zarządzać\n",
    "\n",
    "def _8(full_text):\n",
    "    text_stemmed = full_text.lower().split(\"cele i polityka inwestycyjna\")[0].split()\n",
    "    tmp = [stemmer.stem(x)==\"zarządzać\" for x in full_text.lower().split(\"cele i polityka inwestycyjna\")[0].split()]\n",
    "\n",
    "    df = pd.DataFrame({'text':text_stemmed, 'boolvec':tmp})\n",
    "    word = df[df['boolvec']==True]['text']\n",
    "\n",
    "    if word.empty:\n",
    "        return None\n",
    "    else:\n",
    "        return full_text.split(np.array(word)[0])[1].split(\"\\n\")[0]"
   ]
  },
  {
   "cell_type": "code",
   "execution_count": 230,
   "id": "bc5dc27d",
   "metadata": {
    "scrolled": true
   },
   "outputs": [
    {
     "data": {
      "text/plain": [
       "' przez spółkę BNP Paribas Towarzystwo Funduszy Inwestycyjnych S.A., wchodzącą w skład Grupy Kapitałowej BNP Paribas'"
      ]
     },
     "execution_count": 230,
     "metadata": {},
     "output_type": "execute_result"
    }
   ],
   "source": [
    "_8(text)"
   ]
  },
  {
   "cell_type": "code",
   "execution_count": 232,
   "id": "e7c81243",
   "metadata": {},
   "outputs": [
    {
     "data": {
      "text/plain": [
       "' przez PKO TFI S.A. należące do grupy PKO Banku Polskiego S.A. '"
      ]
     },
     "execution_count": 232,
     "metadata": {},
     "output_type": "execute_result"
    }
   ],
   "source": [
    "_8(text3)"
   ]
  },
  {
   "cell_type": "markdown",
   "id": "f64b497c",
   "metadata": {},
   "source": [
    "9."
   ]
  },
  {
   "cell_type": "code",
   "execution_count": 96,
   "id": "70d71883",
   "metadata": {},
   "outputs": [
    {
     "data": {
      "text/plain": [
       "' 21.09.2022 roku'"
      ]
     },
     "execution_count": 96,
     "metadata": {},
     "output_type": "execute_result"
    }
   ],
   "source": [
    "DATA_AKTUALIZACJI_KIID = text.split(\"dzień\")[-1].split(\"\\n\")[0]\n",
    "DATA_AKTUALIZACJI_KIID"
   ]
  },
  {
   "cell_type": "code",
   "execution_count": 97,
   "id": "001c66e5",
   "metadata": {},
   "outputs": [
    {
     "data": {
      "text/plain": [
       "' 31 sierpnia 2022 roku. '"
      ]
     },
     "execution_count": 97,
     "metadata": {},
     "output_type": "execute_result"
    }
   ],
   "source": [
    "text3.split(\"dzień\")[-1].split(\"\\n\")[0]"
   ]
  },
  {
   "cell_type": "markdown",
   "id": "d7c4fada",
   "metadata": {},
   "source": [
    "10."
   ]
  },
  {
   "cell_type": "code",
   "execution_count": 63,
   "id": "2d465acb",
   "metadata": {},
   "outputs": [
    {
     "name": "stdout",
     "output_type": "stream",
     "text": [
      "Requirement already satisfied: morfeusz2 in c:\\users\\wkosi\\anaconda3\\lib\\site-packages (1.99.6)\n",
      "Note: you may need to restart the kernel to use updated packages.\n"
     ]
    }
   ],
   "source": [
    "pip install morfeusz2"
   ]
  },
  {
   "cell_type": "code",
   "execution_count": 88,
   "id": "76d55e8f",
   "metadata": {
    "scrolled": true
   },
   "outputs": [
    {
     "data": {
      "text/plain": [
       "'kluczowe informacje dla inwestorów\\nniniejszy dokument zawiera kluczowe informacje dla inwestorów dotyczące tego funduszu. nie są to materiały marketingowe. dostarczenie tych \\ninformacji jest wymogiem prawnym mającym na celu ułatwienie zrozumienia charakteru i ryzyka związanego z inwestowaniem w ten fundusz. \\nprzeczytanie niniejszego dokumentu jest zalecane inwestorowi, aby mógł on podjąć świadomą decyzję inwestycyjną.\\nbnp paribas dynamicznego inwestowania\\nkategoria a reprezentatywna również dla jednostek uczestnictwa kategorii c \\nsubfundusz wydzielony w ramach: bnp paribas funduszu inwestycyjnego otwartego (do 15.01.2020 r. działał pod nazwą bgż bnp paribas fundusz inwestycyjny\\notwarty) fundusz jest wpisany do rejestru funduszy inwestycyjnych pod nr rfi 1650\\nfundusz jest zarządzany przez spółkę bnp paribas towarzystwo funduszy inwestycyjnych s.a., wchodzącą w skład grupy kapitałowej bnp paribas\\ncele i polityka inwestycyjna\\ncelem inwestycyjnym subfunduszu jest wzrost wartości aktywów  i instytucji wspólnego inwestowania.\\nsubfunduszu w wyniku wzrostu wartości lokat.\\nfundusz może zawierać umowy mające za przedmiot instrumenty\\nz  uwzględnieniem  zdania  następnego,  fundusz  może  lokować  pochodne w celu ograniczenia ryzyka oraz zapewnienia sprawnego\\nod 70% do 110% wartości aktywów netto subfunduszu w akcje oraz  zarządzania portfelem.\\ninne instrumenty o charakterze udziałowym, tj. prawa do akcji, prawa \\nsubfundusz zbywa jednostki uczestnictwa kategorii a bez ograniczeń,\\npoboru, warranty subskrypcyjne, obligacje zamienne na akcje i kwity \\nkategoria c jest zbywana w ramach oferowanych przez fundusz\\ndepozytowe. przy stosowaniu limitu, o którym mowa w zdaniu \\nróżnych  programów  inwestycyjnych  takich  jak  przykładowo\\npoprzedzającym,  fundusz  jest  obowiązany  uwzględniać  kwotę \\npracownicze programy emerytalne.\\nzaangażowania  w  instrumenty  pochodne  oraz  wartość  praw \\nsubfundusz  nie  wypłaca  dywidend.  dochody  subfunduszu\\ndo nowych emisji akcji.\\npowiększają jego aktywa i są reinwestowane.\\nfundusz może lokować od 0% do 30% wartości aktywów netto \\nfundusz zbywa i odkupuje jednostki uczestnictwa w każdym dniu\\nsubfunduszu w instrumenty o charakterze dłużnym, tj. obligacje, bony \\nwyceny.\\nskarbowe, listy zastawne, certyfikaty depozytowe, instrumenty rynku \\npieniężnego. instrumenty dłużne, w które lokowane  są  aktywa  wzorcem  (benchmarkiem)  służącym  do  oceny  efektywności\\nsubfunduszu,  mogą  być  emitowane  przez  przedsiębiorstwa,  inwestycji w jednostki uczestnictwa subfunduszu jest stopa zwrotu\\nwładze publiczne lub inne podmioty. składająca się w 60% ze stopy zwrotu z indeksu wig20, 30% ze stopy\\nzwrotu z indeksu mwig40 oraz 10% ze stawki wibid o/n.\\nfundusz może inwestować do 20% wartości aktywów subfunduszu \\nłącznie w jednostki uczestnictwa innych funduszy inwestycyjnych  zalecenie:  niniejszy  subfundusz  może  nie  być  odpowiedni\\notwartych oraz tytuły uczestnictwa innych funduszy zagranicznych dla inwestorów, którzy planują wycofać swoje środki w ciągu 5 lat.\\nprofil ryzyka i zysku\\nryzyko kontrahenta: umowy zawierane z określonymi kontrahentami \\n1 2 3 4 5 6 7\\nsą narażone na ewentualne niewywiązanie się tych kontrahentów \\nz umów zawartych z subfunduszem, co w efekcie może doprowadzić \\nniższe ryzyko/potencjalnie niższe zyski wyższe ryzyko/potencjalnie wyższe zyski\\ndo spadku wartości aktywów subfunduszu.\\nsyntetyczny wskaźnik zysku do ryzyka stanowi miarę zmienności\\nwartości jednostki uczestnictwa. dane historyczne, takie jak dane ryzyko płynności: niska płynność oznacza, iż nie ma wystarczającej \\nstosowane  przy  obliczaniu  wskaźnika  syntetycznego,  nie  dają ilości kupujących lub sprzedających dany instrument finansowy, \\npewności co do przyszłego profilu zysku i ryzyka subfunduszu. co powoduje, że subfundusz nie będzie mógł efektywnie sprzedać \\nprzypisanie subfunduszu do określonej kategorii może z czasem ulec lub kupić danych instrumentów finansowych.\\nzmianie.  najniższa  kategoria  nie  oznacza  inwestycji  wolnych ryzyko operacyjne/ryzyko związane z przechowywaniem aktywów: \\nod ryzyka. zdarzenia  zewnętrzne  oraz  błędy  operacyjne,  takie  jak  np. \\nwskaźnik kwalifikuje subfundusz do kategorii 6 co oznacza, że nabycie niewłaściwa kontrola wewnętrzna, błędy systemów informatycznych \\njego  jednostek  uczestnictwa  wiąże  się  z  wysokim  ryzykiem oraz błędy ludzkie mogą doprowadzić do spadku wartości aktywów \\nponiesienia straty. subfunduszu.\\nz  inwestycją  w  jednostki  uczestnictwa  subfunduszu  wiążą  się ryzyko  inwestycji  w  instrumenty  pochodne:  stosowanie \\nnastępujące ryzyka, które nie są odpowiednio uwzględnione przez instrumentów pochodnych może zwiększyć ryzyko inwestycji.\\nwskaźnik: szczegółowe informacje na temat ryzyk związanych\\nryzyko kredytowe: nabywanie dłużnych papierów wartościowych z  inwestowaniem  w  subfundusz  znajdują  się  w  prospekcie \\nzwiązane jestz ryzykiem ewentualnego braku możliwości wywiązania informacyjnym funduszu w rozdziale iv w części: subfundusz bnp \\nsię  przez  emitenta  danego  dłużnego  papieru  ze  zobowiązań paribas dynamicznego inwestowania, pkt. 1.\\nwynikających z tego dłużnego papieru wartościowego.\\nopłaty\\nopłaty jednorazowe pobierane przed lub po dokonaniu inwestycji opłaty ponoszone przez inwestora służą pokryciu kosztów działania subfunduszu, \\nw tym kosztów dystrybucji i wprowadzenia do obrotu. opłaty te zmniejszają \\nopłata za nabycie 5,00% potencjalny wzrost z inwestycji w subfundusz. \\nw przypadku opłaty za nabycie oraz opłaty za umorzenie podawana jest zawsze \\njest to maksymalna kwota, jaka może zostać pobrana z państwa\\nmaksymalna wysokość opłat, pomimo iż w niektórych przypadkach opłaty te \\nśrodków przed zainwestowaniem mogą być niższe.\\nopłata za zamianę stanowi różnicę między obowiązującą opłatą za zbywanie \\nopłata za odkupienie 0,00%\\njednostek  uczestnictwa  w  subfunduszu  którego  jednostki  uczestnictwa  są \\njest to maksymalna kwota, jaka może zostać pobrana z państwa nabywane  w  ramach  zlecenia  zamiany,  a  pobraną  od  uczestnika  opłatą \\nśrodków przed wypłaceniem środków z inwestycji manipulacyjną za zbywanie jednostek uczestnictwa w subfunduszu, którego \\njednostki uczestnictwa są odkupywane. maksymalna wysokość opłaty za zamianę \\nopłaty pobierane z subfunduszu w ciągu roku nie może przekroczyć 1,25% wartości jednostek uczestnictwa podlegających \\nzamianie. \\nopłaty bieżące 2,81% opłata za konwersję stanowi różnicę między obowiązującą opłatą za nabycie \\njednostek uczestnictwa w funduszu docelowym, a pobraną od uczestnika opłatą \\nopłaty pobierane z subfunduszu w określonych warunkach za  nabycie  jednostek  uczestnictwa  w  funduszu  źródłowym.  maksymalna \\nszczególnych wysokość  opłaty  za  konwersję  nie  może  być  wyższa  niż  1,25%  wartości \\nkonwertowanych jednostek uczestnictwa. \\nopłaty za wyniki 0,00%\\npodana wysokość rocznych opłat bieżących opiera się na wydatkach roku \\nfinansowego zakończonego w grudniu 2021 roku. wysokość opłat bieżących może \\nulegać zmianom z roku na rok. \\ntowarzystwo może pobrać wynagrodzenie zmienne za zarządzanie. jest to \\nuzależnione od wyników zarządzania subfunduszem w wysokości nie wyższej niż  \\n20% wzrostu wartości aktywów netto subfunduszu na jednostkę uczestnictwa \\nponad stopę równą zmianie wartości „indeksu odniesienia” zdefiniowanego w \\nstatucie.\\nszczegółowe informacje dotyczące opłat zostały opisane w rozdziale iv w części: \\nsubfundusz  bnp  paribas  dynamicznego  inwestowania,  w  pkt.  5.  prospektu \\ninformacyjnego  funduszu  oraz  są  zawarte  w  tabeli  opłat  dostępnej  u \\nwyniki osiągnięte w przeszłości\\ndystrybutorów oraz na stronie internetowej towarzystwa.\\n25% wyniki osiągnięte przez subfundusz w przeszłości nie stanowią gwarancji \\nosiągnięcia identycznych lub podobnych wyników w przyszłości.\\n20%\\nwykres  wskazuje  wynik  subfunduszu  z  uwzględnieniem  kosztów \\n15% ponoszonych przez subfundusz. podczas obliczeń pominięte zostały opłaty \\n10% za nabycie i odkupienie.\\n5% data pierwszej wyceny subfunduszu: 31 marca 2016 r.\\npoziomem referencyjnym służącym do oceny wyniku subfunduszu jest \\n0%\\nstopa zwrotu składająca się w 60% ze stopy zwrotu z indeksu wig20, 30% \\n-5% ze stopy zwrotu z indeksu mwig40 oraz 10% ze stawki wibid o/n.\\n-10%\\n-15%\\n2012 2013 2014 2015 2016 2017 2018 2019 2020 2021\\n- - - - - 17,6% -12,8% 0,8% -0,5% 21,9%\\n- - - - - 20,4% -10,1% -3,1% -3,5% 17,0%\\n    stopa zwrotu jednostek uczestnictwa     benchmark\\ninformacje praktyczne\\ndepozytariuszem jest deutsche bank polska s.a. fundusz przewiduje możliwość konwersji jednostek uczestnictwa subfunduszu \\nna jednostki uczestnictwa innego funduszu zarządzanego przez towarzystwo \\nsubfundusz jest jednym z subfunduszy wydzielonym w ramach funduszu \\npod warunkiem, że statut funduszu, do którego są konwertowane jednostki \\nbnp paribas funduszu inwestycyjnego otwartego (bnp paribas fio) w \\nuczestnictwa określa dopuszczalność konwersji do takiego funduszu. sposób i \\nzwiązku  z  tym  prospekt  informacyjny  oraz  roczne  i  półroczne \\nszczegółowe warunki konwersji reguluje prospekt informacyjny funduszu.\\nsprawozdania finansowe sporządzane są dla całego funduszu bnp paribas \\nfio. subfundusz  został  utworzony  w  ramach  funduszu  bnp  paribas  fio  (do \\n15.01.2020 r. działającego pod nazwą bgż bnp paribas fio) na podstawie \\nżeby chronić inwestorów, aktywa i zobowiązania każdego subfunduszu są z \\nzezwolenia  udzielonego  przez  komisję  nadzoru  finansowego  (knf)  na \\nmocy  prawa  oddzielone  od  aktywów  i  zobowiązań  pozostałych \\nprowadzenie działalności na terenie rzeczypospolitej polskiej i podlega jej \\nsubfunduszy.\\nnadzorowi.\\nprospekt informacyjny wraz ze statutem bnp paribas fio obejmującym \\nsubfundusz  jest  zarządzany  przez  bnp  paribas  towarzystwo  funduszy \\nsubfundusz,  roczne  i  półroczne  sprawozdania  finansowe  i  inne \\ninwestycyjnych s.a. z siedzibą przy ul. grzybowskiej 78, 00-844 warszawa, \\nsprawozdania okresowe, tabele opłat oraz inne dodatkowe informacje \\nwpisane do krajowego rejestru sądowego prowadzonego przez sąd rejonowy \\ndotyczące subfunduszu dostępne są w języku polskim bezpłatnie, na \\ndla m.st. warszawy w warszawie, xii wydział gospodarczy krajowego rejestru \\nstronie  internetowej  www.tfi.bnpparibas.pl  a  także  w  siedzibie \\nsądowego,  pod  numerem  krs  0000031121,  o  kapitale  zakładowym  w \\ntowarzystwa  przy  ul.  grzybowskiej  78,  00-844  w  warszawie  oraz  u \\nwysokości  16  692  612,00  zł  opłaconym  w  całości,  nip:  526-02-10-808,\\ndystrybutorów.\\n(towarzystwo).\\ndodatkowo  informacja  o  subfunduszu  w  tym  także  informacje  o \\ntowarzystwo wdrożyło politykę wynagrodzeń, która jest dostępna na stronie \\naktualnej  oraz  historycznej  wartości  jednostki  uczestnictwa  można \\ninternetowej www.tfi.bnpparibas.pl/polityki-iregulaminy.\\nuzyskać telefonicznie pod numerem 22 588 18 87.\\ntowarzystwo  może  zostać  pociągnięte  do  odpowiedzialności  za  każde \\nprzepisy podatkowe w rzeczypospolitej polskiej mogą mieć wpływ na \\noświadczenie zawarte w niniejszym dokumencie, które wprowadza w błąd, jest \\nosobistą sytuację podatkową inwestora.\\nniezgodne ze stanem faktycznym lub niespójne z odpowiednimi częściami \\nfundusz  przewiduje  możliwości  zamiany  jednostek  uczestnictwa  prospektu informacyjnego bnp paribas fio.\\nsubfunduszu na jednostki uczestnictwa pozostałych subfunduszy w ramach \\nbnp paribas fio. szczegóły opisane są w prospekcie informacyjnym.\\nniniejsze kluczowe informacje dla inwestorów są aktualne na dzień 21.09.2022 roku\\n'"
      ]
     },
     "execution_count": 88,
     "metadata": {},
     "output_type": "execute_result"
    }
   ],
   "source": [
    "import morfeusz2\n",
    "\n",
    "morf = morfeusz2.Morfeusz()\n",
    "kategoria_odmiana = pd.DataFrame(morf.generate('kategoria'))[0]\n",
    "\n",
    "\n",
    "text.lower()\n",
    "\n"
   ]
  },
  {
   "cell_type": "markdown",
   "id": "b9b65f0b",
   "metadata": {},
   "source": [
    "11."
   ]
  },
  {
   "cell_type": "code",
   "execution_count": 98,
   "id": "6f2c3e60",
   "metadata": {},
   "outputs": [
    {
     "data": {
      "text/plain": [
       "'Celem inwestycyjnym subfunduszu jest wzrost wartości aktywów  i instytucji wspólnego inwestowania.'"
      ]
     },
     "execution_count": 98,
     "metadata": {},
     "output_type": "execute_result"
    }
   ],
   "source": [
    "CEL_INWESTYCYJNY = \"Celem\"+text.lower().split(\"celem\")[1].split('.')[0].replace(\"\\n\",\" \")+\".\"\n",
    "CEL_INWESTYCYJNY"
   ]
  },
  {
   "cell_type": "code",
   "execution_count": 99,
   "id": "19d59c1c",
   "metadata": {},
   "outputs": [
    {
     "data": {
      "text/plain": [
       "'Celem subfunduszu jest wzrost wartości jego aktywów w wyniku wzrostu  dokonywaniu lokat w tytuły uczestnictwa instytucji wspólnego inwestowania    wa rtości lokat.'"
      ]
     },
     "execution_count": 99,
     "metadata": {},
     "output_type": "execute_result"
    }
   ],
   "source": [
    "\"Celem\"+text3.lower().split(\"celem\")[1].split('.')[0].replace(\"\\n\",\" \")+\".\""
   ]
  },
  {
   "cell_type": "markdown",
   "id": "cfe53001",
   "metadata": {},
   "source": [
    "13."
   ]
  },
  {
   "cell_type": "code",
   "execution_count": 67,
   "id": "21bfd60e",
   "metadata": {},
   "outputs": [
    {
     "data": {
      "text/plain": [
       "['\\nfundusz może zawierać umowy mające za przedmiot instrumenty\\nz  uwzględnieniem  zdania  następnego,  fundusz  może  lokować  pochodne w celu ograniczenia ryzyka oraz zapewnienia sprawnego\\nod 70% do 110% wartości aktywów netto subfunduszu w akcje oraz  zarządzania portfelem',\n",
       " '\\nfundusz może lokować od 0% do 30% wartości aktywów netto \\nfundusz zbywa i odkupuje jednostki uczestnictwa w każdym dniu\\nsubfunduszu w instrumenty o charakterze dłużnym, tj',\n",
       " '\\nfundusz może inwestować do 20% wartości aktywów subfunduszu \\nłącznie w jednostki uczestnictwa innych funduszy inwestycyjnych  zalecenie:  niniejszy  subfundusz  może  nie  być  odpowiedni\\notwartych oraz tytuły uczestnictwa innych funduszy zagranicznych dla inwestorów, którzy planują wycofać swoje środki w ciągu 5 lat',\n",
       " ' jest to \\nuzależnione od wyników zarządzania subfunduszem w wysokości nie wyższej niż  \\n20% wzrostu wartości aktywów netto subfunduszu na jednostkę uczestnictwa \\nponad stopę równą zmianie wartości „indeksu odniesienia” zdefiniowanego w \\nstatucie']"
      ]
     },
     "execution_count": 67,
     "metadata": {},
     "output_type": "execute_result"
    }
   ],
   "source": [
    "splitted = text.lower().split(\"celem\")[1].split('.')\n",
    "splitted = [k for k in splitted if 'aktywów' in k]\n",
    "[k for k in splitted if '%' in k]"
   ]
  },
  {
   "cell_type": "markdown",
   "id": "05870f4e",
   "metadata": {},
   "source": [
    "21."
   ]
  },
  {
   "cell_type": "markdown",
   "id": "295b43f6",
   "metadata": {},
   "source": [
    "23."
   ]
  },
  {
   "cell_type": "code",
   "execution_count": 89,
   "id": "602a06fe",
   "metadata": {
    "collapsed": true
   },
   "outputs": [
    {
     "data": {
      "text/plain": [
       "'Syntetyczny wskaźnik zysku do ryzyka stanowi miarę zmienności wartości jednostki uczestnictwa. dane historyczne, takie jak dane ryzyko płynności: niska płynność oznacza, iż nie ma wystarczającej  stosowane  przy  obliczaniu  wskaźnika  syntetycznego,  nie  dają ilości kupujących lub sprzedających dany instrument finansowy,  pewności co do przyszłego profilu zysku i ryzyka subfunduszu. co powoduje, że subfundusz nie będzie mógł efektywnie sprzedać  przypisanie subfunduszu do określonej kategorii może z czasem ulec lub kupić danych instrumentów finansowych. zmianie.  najniższa  kategoria  nie  oznacza  inwestycji  wolnych ryzyko operacyjne/ryzyko związane z przechowywaniem aktywów:  od ryzyka. zdarzenia  zewnętrzne  oraz  błędy  operacyjne,  takie  jak  np.  wskaźnik kwalifikuje subfundusz do kategorii 6 co oznacza, że nabycie niewłaściwa kontrola wewnętrzna, błędy systemów informatycznych  jego  jednostek  uczestnictwa  wiąże  się  z  wysokim  ryzykiem oraz błędy ludzkie mogą doprowadzić do spadku wartości aktywów  poniesienia straty. subfunduszu. z  inwestycją  w  jednostki  uczestnictwa  subfunduszu  wiążą  się ryzyko  inwestycji  w  instrumenty  pochodne:  stosowanie  następujące ryzyka, które nie są odpowiednio uwzględnione przez instrumentów pochodnych może zwiększyć ryzyko inwestycji. wskaźnik: szczegółowe informacje na temat ryzyk związanych ryzyko kredytowe: nabywanie dłużnych papierów wartościowych z  inwestowaniem  w  subfundusz  znajdują  się  w  prospekcie  związane jestz ryzykiem ewentualnego braku możliwości wywiązania informacyjnym funduszu w rozdziale iv w części: subfundusz bnp  się  przez  emitenta  danego  dłużnego  papieru  ze  zobowiązań paribas dynamicznego inwestowania, pkt. 1. wynikających z tego dłużnego papieru wartościowego. opłaty opłaty jednorazowe pobierane przed lub po dokonaniu inwestycji opłaty ponoszone przez inwestora służą pokryciu kosztów działania subfunduszu,  w tym kosztów dystrybucji i wprowadzenia do obrotu. opłaty te zmniejszają  opłata za nabycie 5,00% potencjalny wzrost z inwestycji w subfundusz.  w przypadku opłaty za nabycie oraz opłaty za umorzenie podawana jest zawsze  jest to maksymalna kwota, jaka może zostać pobrana z państwa maksymalna wysokość opłat, pomimo iż w niektórych przypadkach opłaty te  środków przed zainwestowaniem mogą być niższe. opłata za zamianę stanowi różnicę między obowiązującą opłatą za zbywanie  opłata za odkupienie 0,00% jednostek  uczestnictwa  w  subfunduszu  którego  jednostki  uczestnictwa  są  jest to maksymalna kwota, jaka może zostać pobrana z państwa nabywane  w  ramach  zlecenia  zamiany,  a  pobraną  od  uczestnika  opłatą  środków przed wypłaceniem środków z inwestycji manipulacyjną za zbywanie jednostek uczestnictwa w subfunduszu, którego  jednostki uczestnictwa są odkupywane. maksymalna wysokość opłaty za zamianę  opłaty pobierane z subfunduszu w ciągu roku nie może przekroczyć 1,25% wartości jednostek uczestnictwa podlegających  zamianie.  opłaty bieżące 2,81% opłata za konwersję stanowi różnicę między obowiązującą opłatą za nabycie  jednostek uczestnictwa w funduszu docelowym, a pobraną od uczestnika opłatą  opłaty pobierane z subfunduszu w określonych warunkach za  nabycie  jednostek  uczestnictwa  w  funduszu  źródłowym.  maksymalna  szczególnych wysokość  opłaty  za  konwersję  nie  może  być  wyższa  niż  1,25%  wartości  konwertowanych jednostek uczestnictwa.  opłaty za wyniki 0,00% podana wysokość rocznych opłat bieżących opiera się na wydatkach roku  finansowego zakończonego w grudniu 2021 roku. wysokość opłat bieżących może  ulegać zmianom z roku na rok.  towarzystwo może pobrać wynagrodzenie zmienne za zarządzanie. jest to  uzależnione od wyników zarządzania subfunduszem w wysokości nie wyższej niż   20% wzrostu wartości aktywów netto subfunduszu na jednostkę uczestnictwa  ponad stopę równą zmianie wartości „indeksu odniesienia” zdefiniowanego w  statucie. szczegółowe informacje dotyczące opłat zostały opisane w rozdziale iv w części:  subfundusz  bnp  paribas  dynamicznego  inwestowania,  w  pkt.  5.  prospektu  informacyjnego  funduszu  oraz  są  zawarte  w  tabeli  opłat  dostępnej  u  wyniki osiągnięte w przeszłości dystrybutorów oraz na stronie internetowej towarzystwa. 25% wyniki osiągnięte przez subfundusz w przeszłości nie stanowią gwarancji  osiągnięcia identycznych lub podobnych wyników w przyszłości. 20% wykres  wskazuje  wynik  subfunduszu  z  uwzględnieniem  kosztów  15% ponoszonych przez subfundusz. podczas obliczeń pominięte zostały opłaty  10% za nabycie i odkupienie. 5% data pierwszej wyceny subfunduszu: 31 marca 2016 r. poziomem referencyjnym służącym do oceny wyniku subfunduszu jest  0% stopa zwrotu składająca się w 60% ze stopy zwrotu z indeksu wig20, 30%  -5% ze stopy zwrotu z indeksu mwig40 oraz 10% ze stawki wibid o/n. -10% -15% 2012 2013 2014 2015 2016 2017 2018 2019 2020 2021 - - - - - 17,6% -12,8% 0,8% -0,5% 21,9% - - - - - 20,4% -10,1% -3,1% -3,5% 17,0%     stopa zwrotu jednostek uczestnictwa     benchmark informacje praktyczne depozytariuszem jest deutsche bank polska s.a. fundusz przewiduje możliwość konwersji jednostek uczestnictwa subfunduszu  na jednostki uczestnictwa innego funduszu zarządzanego przez towarzystwo  subfundusz jest jednym z subfunduszy wydzielonym w ramach funduszu  pod warunkiem, że statut funduszu, do którego są konwertowane jednostki  bnp paribas funduszu inwestycyjnego otwartego (bnp paribas fio) w  uczestnictwa określa dopuszczalność konwersji do takiego funduszu. sposób i  związku  z  tym  prospekt  informacyjny  oraz  roczne  i  półroczne  szczegółowe warunki konwersji reguluje prospekt informacyjny funduszu. sprawozdania finansowe sporządzane są dla całego funduszu bnp paribas  fio. subfundusz  został  utworzony  w  ramach  funduszu  bnp  paribas  fio  (do  15.01.2020 r. działającego pod nazwą bgż bnp paribas fio) na podstawie  żeby chronić inwestorów, aktywa i zobowiązania każdego subfunduszu są z  zezwolenia  udzielonego  przez  komisję  nadzoru  finansowego  (knf)  na  mocy  prawa  oddzielone  od  aktywów  i  zobowiązań  pozostałych  prowadzenie działalności na terenie rzeczypospolitej polskiej i podlega jej  subfunduszy. nadzorowi. prospekt informacyjny wraz ze statutem bnp paribas fio obejmującym  subfundusz  jest  zarządzany  przez  bnp  paribas  towarzystwo  funduszy  subfundusz,  roczne  i  półroczne  sprawozdania  finansowe  i  inne  inwestycyjnych s.a. z siedzibą przy ul. grzybowskiej 78, 00-844 warszawa,  sprawozdania okresowe, tabele opłat oraz inne dodatkowe informacje  wpisane do krajowego rejestru sądowego prowadzonego przez sąd rejonowy  dotyczące subfunduszu dostępne są w języku polskim bezpłatnie, na  dla m.st. warszawy w warszawie, xii wydział gospodarczy krajowego rejestru  stronie  internetowej  www.tfi.bnpparibas.pl  a  także  w  siedzibie  sądowego,  pod  numerem  krs  0000031121,  o  kapitale  zakładowym  w  towarzystwa  przy  ul.  grzybowskiej  78,  00-844  w  warszawie  oraz  u  wysokości  16  692  612,00  zł  opłaconym  w  całości,  nip:  526-02-10-808, dystrybutorów. (towarzystwo). dodatkowo  informacja  o  subfunduszu  w  tym  także  informacje  o  towarzystwo wdrożyło politykę wynagrodzeń, która jest dostępna na stronie  aktualnej  oraz  historycznej  wartości  jednostki  uczestnictwa  można  internetowej www.tfi.bnpparibas.pl/polityki-iregulaminy. uzyskać telefonicznie pod numerem 22 588 18 87. towarzystwo  może  zostać  pociągnięte  do  odpowiedzialności  za  każde  przepisy podatkowe w rzeczypospolitej polskiej mogą mieć wpływ na  oświadczenie zawarte w niniejszym dokumencie, które wprowadza w błąd, jest  osobistą sytuację podatkową inwestora. niezgodne ze stanem faktycznym lub niespójne z odpowiednimi częściami  fundusz  przewiduje  możliwości  zamiany  jednostek  uczestnictwa  prospektu informacyjnego bnp paribas fio. subfunduszu na jednostki uczestnictwa pozostałych subfunduszy w ramach  bnp paribas fio. szczegóły opisane są w prospekcie informacyjnym. niniejsze kluczowe informacje dla inwestorów są aktualne na dzień 21.09.2022 roku '"
      ]
     },
     "execution_count": 89,
     "metadata": {},
     "output_type": "execute_result"
    }
   ],
   "source": [
    "PROFIL_RYZYKA_I_ZYSKU = \"Syntetyczny\"+text.lower().split(\"profil ryzyka i zysku\")[1].split('syntetyczny')[1].replace(\"\\n\",\" \")\n",
    "PROFIL_RYZYKA_I_ZYSKU"
   ]
  },
  {
   "cell_type": "code",
   "execution_count": 107,
   "id": "60cc53cd",
   "metadata": {
    "collapsed": true
   },
   "outputs": [
    {
     "data": {
      "text/plain": [
       "' zaprzestania działalności przez depozytariusza lub ograniczenia jego \\ndziałalności istnieje przejściowe ryzyko ograniczenia dysponowania \\n  przechowywanymi papierami wartościowymi. \\nwskaźnik zysku i ryzyka bazuje na historycznej zmienności wyceny \\nryzyko operacyjne: ryzyko poniesienia strat w wyniku nieadekwatnych \\njednostki. dane te nie są miarodajnym wyznacznikiem przyszłych wyników \\n subfunduszu. ocena ryzyka w miarę upływu czasu może ulegać zmianie.  lub zawodnych procesów wewnętrznych, ludzkich błędów lub błędów \\nsystemów komputerowych, a także zdarzeń zewnętrznych. \\nnajniższa ocena nie oznacza inwestycji wolnych od ryzyka. \\nryzyko instrumentów pochodnych: inwestycja w instrumenty pochodne \\n wskaźnik kwalifikuje subfundusz do kategorii 4 - co wynika z umiarkowanej \\nniesie ryzyko poniesienia strat w wyniku niekorzystnych zmian cen \\nzmienności cen instrumentów będących przedmiotem inwestycji. \\npapierów wartościowych, stóp procentowych, kursów walut lub \\n subfundusz podlega ryzykom, które mogą nie być odpowiednio \\nindeksów giełdowych. zawarcie umowy mającej za przedmiot \\nuwzględnione przez wskaźnik: \\nniewystandaryzowane instrumenty pochodne może dodatkowo \\n ryzyko kredytowe: związane z możliwością niewywiązania się ze swoich  powodować ryzyko niewywiązania się przez kontrahenta z zawartej \\nzobowiązań przez emitenta, którego instrumenty finansowe są przedmiotem  transakcji. \\nlokat subfunduszu lub kontrahenta, z którym zawarto umowy lub transakcje \\n \\nna instrumentach finansowych. niewypłacalność któregokolwiek z   \\nemitentów może negatywnie wpłynąć na wartość aktywów netto. \\n  więcej o ryzykach inwestycji w subfundusz można przeczytać w \\nryzyko płynności: istnieje ryzyko wystąpienia sytuacji, w której nie jest  podrozdziale iiib prospektu informacyjnego. \\nmożliwe dokonanie transakcji papierami wartościowymi bez znaczącego \\n wpływu na ich cenę. \\n \\n \\nopłaty \\n \\nopłaty ponoszone przez inwestora służą pokryciu kosztów działania \\n  subfunduszu, w tym kosztów dystrybucji i wprowadzania jego jednostek \\njednorazowe opłaty pobierane przed  zainwestowaniem  lub po \\n  do obrotu. opłaty te zmniejszają potencjalny wzrost inwestycji. \\nzainwestowaniu: \\n  podana kwota opłat bieżących ma charakter szacunkowy z uwagi na \\n  opłata za nabycie  2,00%  aktualizację w 2022 r. wysokości wynagrodzenia stałego za zarządzanie \\nsubfunduszem. wartość opłat bieżących może co roku ulegać zmianie. \\nopłata za odkupienie  brak \\njednostkowe sprawozdanie subfunduszu za każdy rok obrotowy będzie \\n \\njest to maksymalna kwota, jaka może zostać pobrana z państwa środków  zawierało szczegółowe informacje dotyczące faktycznej wysokości \\nprzed ich zainwestowaniem / przed wypłaceniem środków z inwestycji  pobranych opłat. \\n \\n    opłata za nabycie i opłata za odkupienie są podawane w wysokości \\nopłaty pobierane z subfunduszu w ciągu roku:  maksymalnej. w określonych przypadkach inwestor może ponosić niższe \\n \\n  opłaty. informacje o bieżącej wysokości opłat można uzyskać u \\nopłaty bieżące  1,72% \\ndystrybutora. \\n  opłaty pobierane z subfunduszu w określonych warunkach:  więcej informacji na temat opłat można znaleźć w podrozdziale iiib \\nopłaty za wyniki  brak  prospektu informacyjnego. prospekt dostępny jest na stronie \\ninternetowej www.pkotfi.pl oraz u dystrybutorów. \\n  \\n  wyniki osiągnięte w przeszłości \\n \\n \\nsubfundusz uruchomiono 18 czerwca 2012 r. \\nroczne stopy zwrotu pko zabezpieczenia emerytalnego 2030 \\nwyniki historyczne nie stanowią gwarancji podobnych \\n15% rezultatów inwestycji w przyszłości. wyniki przedstawiono w \\npln z uwzględnieniem kosztów ponoszonych przez subfundusz. \\nkalkulacja nie obejmuje opłat za nabycie/odkupienie jednostek \\n10% uczestnictwa oraz podatku od zysków kapitałowych. \\nstruktura poziomu referencyjnego subfunduszu ulegała zmianie: \\n5% - od początku działalności do 24.07.2014 r.: 45% wig + 55% \\nmerrill lynch polish governments 1-4 yrs (gfpl)  \\n- od 25.07.2014 r. do 31.07.2017 r.: 22,5% wig + 22,5% msci \\n0% acwi usd + 55% merrill lynch g0pl polish governments  \\n- od 01.08.2017 r. do 31.12.2019 r.: 22,5% wig + 22,5% msci \\nworld usd + 55% merrill lynch g0pl polish governments. \\n-5%\\n- od 01.01.2020 r. 30.04.2021 r.: 7,5% wig + 7,5% msci \\nworld usd + 85% merrill lynch (g0pl) polish governments.  \\n-10% - od 01.05.2021 r. benchmarkiem subfunduszu jest: 7,5% \\n2012 2013 2014 2015 2016 2017 2018 2019 2020 2021  wig20 + 7,5% msci world usd + 85% ice bofa poland \\ng overnment index (g0pl). \\nkat. a  -  5,6%  3,4%  -2,2%  3,3%  7,9%  -2,4%  6,3%  4,1%  -4,8% \\nw  ięcej informacji o wynikach osiągniętych w przeszłości można \\nbenchmark  -  5,6%  3,5%  -2,3%  3,9%  12,8%  -1,7%  8,1%  7,3%  -6,6% \\nznaleźć w podrozdziale iiib prospektu informacyjnego. \\n \\n \\n \\ninformacje praktyczne   \\n \\njednostka a jest jednostką reprezentatywną dla jednostek a2, e, f, g, h  niniejszy dokument opisuje subfundusz wydzielony w ramach funduszu. \\noraz j. szczegółowe informacje na temat poszczególnych kategorii  prospekt informacyjny sporządza się dla całego funduszu. sprawozdania \\njednostek uczestnictwa subfunduszu znaleźć można w rozdziale iii  finansowe sporządzane są jako jednostkowe dla subfunduszy oraz \\nprospektu informacyjnego.  połączone dla funduszu. przepisy ustawy z dnia 27 maja 2004 r. o \\nfunduszach inwestycyjnych i zarządzaniu alternatywnymi funduszami \\ndepozytariuszem jest bank handlowy w warszawie s.a. \\ninwestycyjnymi przewidują rozdzielenie aktywów i pasywów każdego z \\nszczegółowe informacje na temat subfunduszu można znaleźć w  subfunduszy. zobowiązania wynikające z poszczególnych subfunduszy \\nprospekcie informacyjnym. prospekt informacyjny wraz ze statutem, roczne  obciążają tylko te subfundusze. zobowiązania, które dotyczą całego \\ni półroczne sprawozdania finansowe oraz tabela opłat dostępne są w  funduszu, obciążają poszczególne subfundusze proporcjonalnie do ich \\njęzyku polskim, bezpłatnie na stronie internetowej www.pkotfi.pl oraz u  udziału w wartości aktywów netto funduszu. \\ndystrybutorów. aktualną wycenę jednostek uczestnictwa można znaleźć na \\nsubfundusz został utworzony w ramach pko zabezpieczenia \\nstronie www.pkotfi.pl. \\nemerytalnego - sfio działającego na podstawie zezwolenia na \\nprzepisy podatkowe w rzeczypospolitej polskiej mogą mieć wpływ na  prowadzenie działalności na terytorium rzeczpospolitej polskiej \\nosobistą sytuację podatkową inwestora.  udzielonego przez komisję nadzoru finansowego i podlega jej \\npko tfi s.a. może zostać pociągnięte do odpowiedzialności za każde  nadzorowi. \\noświadczenie zawarte w niniejszym dokumencie, które wprowadza w błąd,  przedstawione informacje o opłatach za nabycie i odkupienie dotyczą \\njest niezgodne ze stanem faktycznym lub niespójne z odpowiednimi  uczestnictwa w subfunduszu na zasadach ogólnych. w przypadku \\nczęściami prospektu informacyjnego pko zabezpieczenia emerytalnego -  produktów powiązanych z uczestnictwem w subfunduszu, takich jak \\nsfio.  wpi/ike/ikze/ppe, oferowanych na podstawie odrębnych umów i \\npod pewnymi warunkami uczestnik może dokonać przeniesienia jednostek  zasad inwestor może zostać obciążony opłatami, których wysokość jest \\nuczestnictwa dowolnego subfunduszu na jednostki uczestnictwa innego  określona w tych umowach lub zasadach. \\nsubfunduszu. szczegółowe informacje na ten temat znajdują się w rozdziale  informacje o stosowanej w pko tfi s.a. polityce wynagrodzeń dostępne \\niii prospektu informacyjnego oraz u dystrybutorów.  są na stronie internetowej www.pkotfi.pl. \\n \\nniniejsze kluczowe informacje dla inwestorów zostały zaktualizowane na dzień 31 sierpnia 2022 roku. \\n \\n \\n \\n'"
      ]
     },
     "execution_count": 107,
     "metadata": {},
     "output_type": "execute_result"
    }
   ],
   "source": [
    "text3.lower().split(\"1 2 3 4 5 6 7\")[1]"
   ]
  },
  {
   "cell_type": "markdown",
   "id": "a6db95d7",
   "metadata": {},
   "source": [
    "26."
   ]
  },
  {
   "cell_type": "code",
   "execution_count": 114,
   "id": "3e184d6d",
   "metadata": {
    "scrolled": false
   },
   "outputs": [
    {
     "data": {
      "text/plain": [
       "'5,00%'"
      ]
     },
     "execution_count": 114,
     "metadata": {},
     "output_type": "execute_result"
    }
   ],
   "source": [
    "OPLATA_ZA_NABYCIE = text.lower().split(\"opłata za nabycie\")[1].split()[0]\n",
    "OPLATA_ZA_NABYCIE"
   ]
  },
  {
   "cell_type": "code",
   "execution_count": 115,
   "id": "16e8d3c9",
   "metadata": {},
   "outputs": [
    {
     "data": {
      "text/plain": [
       "'2,00%'"
      ]
     },
     "execution_count": 115,
     "metadata": {},
     "output_type": "execute_result"
    }
   ],
   "source": [
    "text3.lower().split(\"opłata za nabycie\")[1].split()[0]"
   ]
  },
  {
   "cell_type": "markdown",
   "id": "5f6bfd62",
   "metadata": {},
   "source": [
    "27."
   ]
  },
  {
   "cell_type": "code",
   "execution_count": 118,
   "id": "21329e1c",
   "metadata": {},
   "outputs": [
    {
     "data": {
      "text/plain": [
       "'0,00%'"
      ]
     },
     "execution_count": 118,
     "metadata": {},
     "output_type": "execute_result"
    }
   ],
   "source": [
    "OPLATA_ZA_ODKUPIENIE = text.lower().split(\"opłata za odkupienie\")[1].split()[0]\n",
    "OPLATA_ZA_ODKUPIENIE"
   ]
  },
  {
   "cell_type": "code",
   "execution_count": 119,
   "id": "bfaf405f",
   "metadata": {},
   "outputs": [
    {
     "data": {
      "text/plain": [
       "'brak'"
      ]
     },
     "execution_count": 119,
     "metadata": {},
     "output_type": "execute_result"
    }
   ],
   "source": [
    "text3.lower().split(\"opłata za odkupienie\")[1].split()[0]"
   ]
  },
  {
   "cell_type": "markdown",
   "id": "e3a28f9c",
   "metadata": {},
   "source": [
    "28."
   ]
  },
  {
   "cell_type": "code",
   "execution_count": 120,
   "id": "00c0f6a0",
   "metadata": {},
   "outputs": [
    {
     "data": {
      "text/plain": [
       "'2,81%'"
      ]
     },
     "execution_count": 120,
     "metadata": {},
     "output_type": "execute_result"
    }
   ],
   "source": [
    "OPLATY_BIEZACE = text.lower().split(\"opłaty bieżące\")[1].split()[0]\n",
    "OPLATY_BIEZACE"
   ]
  },
  {
   "cell_type": "code",
   "execution_count": 121,
   "id": "301603ec",
   "metadata": {},
   "outputs": [
    {
     "data": {
      "text/plain": [
       "'1,72%'"
      ]
     },
     "execution_count": 121,
     "metadata": {},
     "output_type": "execute_result"
    }
   ],
   "source": [
    "text3.lower().split(\"opłaty bieżące\")[1].split()[0]"
   ]
  },
  {
   "cell_type": "markdown",
   "id": "161bea1e",
   "metadata": {},
   "source": [
    "29."
   ]
  },
  {
   "cell_type": "code",
   "execution_count": 122,
   "id": "46c8e1c5",
   "metadata": {},
   "outputs": [
    {
     "data": {
      "text/plain": [
       "'0,00%'"
      ]
     },
     "execution_count": 122,
     "metadata": {},
     "output_type": "execute_result"
    }
   ],
   "source": [
    "OPLATY_ZA_WYNIKI = text.lower().split(\"opłaty za wyniki\")[1].split()[0]\n",
    "OPLATY_ZA_WYNIKI"
   ]
  },
  {
   "cell_type": "code",
   "execution_count": 123,
   "id": "d664348a",
   "metadata": {},
   "outputs": [
    {
     "data": {
      "text/plain": [
       "'brak'"
      ]
     },
     "execution_count": 123,
     "metadata": {},
     "output_type": "execute_result"
    }
   ],
   "source": [
    "text3.lower().split(\"opłaty za wyniki\")[1].split()[0]"
   ]
  },
  {
   "cell_type": "markdown",
   "id": "b6c94c3f",
   "metadata": {},
   "source": [
    "52. Założenie, że struktura = depozytariuszem ... jest"
   ]
  },
  {
   "cell_type": "code",
   "execution_count": 140,
   "id": "8d189a00",
   "metadata": {},
   "outputs": [
    {
     "data": {
      "text/plain": [
       "' deutsche bank polska s.a'"
      ]
     },
     "execution_count": 140,
     "metadata": {},
     "output_type": "execute_result"
    }
   ],
   "source": [
    "text.lower().split(\"depozytariuszem\")[1].split(\". \")[0].split(\"jest\")[1]"
   ]
  },
  {
   "cell_type": "code",
   "execution_count": 141,
   "id": "687da571",
   "metadata": {},
   "outputs": [
    {
     "data": {
      "text/plain": [
       "' bank handlowy w warszawie s.a'"
      ]
     },
     "execution_count": 141,
     "metadata": {},
     "output_type": "execute_result"
    }
   ],
   "source": [
    "text3.lower().split(\"depozytariuszem\")[1].split(\". \")[0].split(\"jest\")[1]"
   ]
  },
  {
   "cell_type": "markdown",
   "id": "ac061069",
   "metadata": {},
   "source": [
    "53. "
   ]
  },
  {
   "cell_type": "code",
   "execution_count": 150,
   "id": "26843d19",
   "metadata": {},
   "outputs": [
    {
     "data": {
      "text/plain": [
       "['0000031121']"
      ]
     },
     "execution_count": 150,
     "metadata": {},
     "output_type": "execute_result"
    }
   ],
   "source": [
    "re.findall(r'[0-9]{10}',text.lower().split(\"informacje praktyczne\")[1])"
   ]
  },
  {
   "cell_type": "code",
   "execution_count": 149,
   "id": "f70b11a8",
   "metadata": {},
   "outputs": [
    {
     "data": {
      "text/plain": [
       "[]"
      ]
     },
     "execution_count": 149,
     "metadata": {},
     "output_type": "execute_result"
    }
   ],
   "source": [
    "re.findall(r'[0-9]{10}',text3.lower().split(\"informacje praktyczne\")[1])"
   ]
  },
  {
   "cell_type": "markdown",
   "id": "c753e180",
   "metadata": {},
   "source": [
    "54."
   ]
  },
  {
   "cell_type": "code",
   "execution_count": 151,
   "id": "860f2aed",
   "metadata": {},
   "outputs": [
    {
     "data": {
      "text/plain": [
       "['526-02-10-808']"
      ]
     },
     "execution_count": 151,
     "metadata": {},
     "output_type": "execute_result"
    }
   ],
   "source": [
    "re.findall(r'[0-9]{3}-[0-9]{2}-[0-9]{2}-[0-9]{3}',text.lower().split(\"informacje praktyczne\")[1])"
   ]
  },
  {
   "cell_type": "code",
   "execution_count": 152,
   "id": "f7957798",
   "metadata": {},
   "outputs": [
    {
     "data": {
      "text/plain": [
       "[]"
      ]
     },
     "execution_count": 152,
     "metadata": {},
     "output_type": "execute_result"
    }
   ],
   "source": [
    "re.findall(r'[0-9]{3}-[0-9]{2}-[0-9]{2}-[0-9]{3}',text3.lower().split(\"informacje praktyczne\")[1])"
   ]
  },
  {
   "cell_type": "code",
   "execution_count": null,
   "id": "da4876a6",
   "metadata": {},
   "outputs": [],
   "source": []
  }
 ],
 "metadata": {
  "kernelspec": {
   "display_name": "Python 3",
   "language": "python",
   "name": "python3"
  },
  "language_info": {
   "codemirror_mode": {
    "name": "ipython",
    "version": 3
   },
   "file_extension": ".py",
   "mimetype": "text/x-python",
   "name": "python",
   "nbconvert_exporter": "python",
   "pygments_lexer": "ipython3",
   "version": "3.8.8"
  }
 },
 "nbformat": 4,
 "nbformat_minor": 5
}
