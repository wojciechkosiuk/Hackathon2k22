{
 "cells": [
  {
   "cell_type": "code",
   "execution_count": 1,
   "id": "3403da46",
   "metadata": {},
   "outputs": [],
   "source": [
    "import pandas as pd\n",
    "import numpy as np"
   ]
  },
  {
   "cell_type": "code",
   "execution_count": 2,
   "id": "a68a9eea",
   "metadata": {},
   "outputs": [
    {
     "name": "stdout",
     "output_type": "stream",
     "text": [
      "Requirement already satisfied: PyPDF2 in c:\\users\\wkosi\\anaconda3\\lib\\site-packages (2.11.1)\n",
      "Requirement already satisfied: typing-extensions>=3.10.0.0 in c:\\users\\wkosi\\anaconda3\\lib\\site-packages (from PyPDF2) (4.3.0)\n",
      "Note: you may need to restart the kernel to use updated packages.\n"
     ]
    }
   ],
   "source": [
    "pip install PyPDF2"
   ]
  },
  {
   "cell_type": "code",
   "execution_count": 52,
   "id": "c681eb4e",
   "metadata": {},
   "outputs": [
    {
     "name": "stdout",
     "output_type": "stream",
     "text": [
      "Collecting pdfplumber\n",
      "  Downloading pdfplumber-0.7.5-py3-none-any.whl (40 kB)\n",
      "Collecting Wand>=0.6.10\n",
      "  Downloading Wand-0.6.10-py2.py3-none-any.whl (142 kB)\n",
      "Collecting pdfminer.six==20220524\n",
      "  Downloading pdfminer.six-20220524-py3-none-any.whl (5.6 MB)\n",
      "Collecting Pillow>=9.1\n",
      "  Downloading Pillow-9.2.0-cp38-cp38-win_amd64.whl (3.3 MB)\n",
      "Collecting charset-normalizer>=2.0.0\n",
      "  Downloading charset_normalizer-3.0.0-cp38-cp38-win_amd64.whl (95 kB)\n",
      "Collecting cryptography>=36.0.0\n",
      "  Downloading cryptography-38.0.1-cp36-abi3-win_amd64.whl (2.4 MB)\n",
      "Requirement already satisfied: cffi>=1.12 in c:\\users\\wkosi\\anaconda3\\lib\\site-packages (from cryptography>=36.0.0->pdfminer.six==20220524->pdfplumber) (1.14.5)\n",
      "Requirement already satisfied: pycparser in c:\\users\\wkosi\\anaconda3\\lib\\site-packages (from cffi>=1.12->cryptography>=36.0.0->pdfminer.six==20220524->pdfplumber) (2.20)\n",
      "Installing collected packages: cryptography, charset-normalizer, Wand, Pillow, pdfminer.six, pdfplumber\n",
      "  Attempting uninstall: cryptography\n",
      "    Found existing installation: cryptography 3.4.7\n",
      "    Uninstalling cryptography-3.4.7:\n",
      "      Successfully uninstalled cryptography-3.4.7\n",
      "  Attempting uninstall: Pillow\n",
      "    Found existing installation: Pillow 8.2.0\n",
      "    Uninstalling Pillow-8.2.0:\n",
      "      Successfully uninstalled Pillow-8.2.0\n",
      "Successfully installed Pillow-9.2.0 Wand-0.6.10 charset-normalizer-3.0.0 cryptography-38.0.1 pdfminer.six-20220524 pdfplumber-0.7.5\n",
      "Note: you may need to restart the kernel to use updated packages.\n"
     ]
    }
   ],
   "source": [
    "pip install pdfplumber"
   ]
  },
  {
   "cell_type": "code",
   "execution_count": 53,
   "id": "f8ea3845",
   "metadata": {},
   "outputs": [],
   "source": [
    "import pdfplumber\n",
    "\n",
    "def extract(file_name):\n",
    "    # podajesz nazwe pliku i otrzymujesz string z calej zawartosci i NAZWE_SUBFUNDUSZU znaleziona w pliku\n",
    "\n",
    "    pdf = pdfplumber.open(file_name)\n",
    "    \n",
    "    \n",
    "    \n",
    "    full_text = \"\"\n",
    "    for page in pdf.pages:\n",
    "        full_text += page.extract_text()\n",
    "        full_text += \"\\n\"\n",
    "\n",
    "    return full_text"
   ]
  },
  {
   "cell_type": "code",
   "execution_count": 257,
   "id": "647be6e1",
   "metadata": {},
   "outputs": [],
   "source": [
    "file_name = \"KIID_BNP_Paribas_DI_2022-09-21.pdf\"\n",
    "file_name2 = \"kid0608.pdf\"\n",
    "file_name3 = \"kiidpko.pdf\"\n",
    "file_name4 = \"KIID_ALIOR_Akcji_kat.A.26.09.2022.pdf\""
   ]
  },
  {
   "cell_type": "code",
   "execution_count": 92,
   "id": "11378f99",
   "metadata": {
    "scrolled": true
   },
   "outputs": [
    {
     "data": {
      "text/plain": [
       "'Kluczowe Informacje dla Inwestorów\\nNiniejszy dokument zawiera kluczowe informacje dla inwestorów dotyczące tego funduszu. Nie są to materiały marketingowe. Dostarczenie tych \\ninformacji jest wymogiem prawnym mającym na celu ułatwienie zrozumienia charakteru i ryzyka związanego z inwestowaniem w ten fundusz. \\nPrzeczytanie niniejszego dokumentu jest zalecane inwestorowi, aby mógł on podjąć świadomą decyzję inwestycyjną.\\nBNP Paribas Dynamicznego Inwestowania\\nKategoria A reprezentatywna również dla jednostek uczestnictwa kategorii C \\nSubfundusz wydzielony w ramach: BNP Paribas Funduszu Inwestycyjnego Otwartego (do 15.01.2020 r. działał pod nazwą BGŻ BNP Paribas Fundusz Inwestycyjny\\nOtwarty) Fundusz jest wpisany do rejestru funduszy inwestycyjnych pod nr RFi 1650\\nFundusz jest zarządzany przez spółkę BNP Paribas Towarzystwo Funduszy Inwestycyjnych S.A., wchodzącą w skład Grupy Kapitałowej BNP Paribas\\nCele i polityka inwestycyjna\\nCelem inwestycyjnym Subfunduszu jest wzrost wartości Aktywów  i instytucji wspólnego inwestowania.\\nSubfunduszu w wyniku wzrostu wartości lokat.\\nFundusz może zawierać umowy mające za przedmiot instrumenty\\nZ  uwzględnieniem  zdania  następnego,  Fundusz  może  lokować  pochodne w celu ograniczenia ryzyka oraz zapewnienia sprawnego\\nod 70% do 110% Wartości Aktywów Netto Subfunduszu w akcje oraz  zarządzania portfelem.\\ninne instrumenty o charakterze udziałowym, tj. prawa do akcji, prawa \\nSubfundusz zbywa jednostki uczestnictwa kategorii A bez ograniczeń,\\npoboru, warranty subskrypcyjne, obligacje zamienne na akcje i kwity \\nkategoria C jest zbywana w ramach oferowanych przez Fundusz\\ndepozytowe. Przy stosowaniu limitu, o którym mowa w zdaniu \\nróżnych  programów  inwestycyjnych  takich  jak  przykładowo\\npoprzedzającym,  Fundusz  jest  obowiązany  uwzględniać  kwotę \\npracownicze programy emerytalne.\\nzaangażowania  w  Instrumenty  Pochodne  oraz  wartość  praw \\nSubfundusz  nie  wypłaca  dywidend.  Dochody  Subfunduszu\\ndo nowych emisji akcji.\\npowiększają jego aktywa i są reinwestowane.\\nFundusz może lokować od 0% do 30% Wartości Aktywów Netto \\nFundusz zbywa i odkupuje Jednostki Uczestnictwa w każdym Dniu\\nSubfunduszu w instrumenty o charakterze dłużnym, tj. obligacje, bony \\nWyceny.\\nskarbowe, listy zastawne, certyfikaty depozytowe, Instrumenty Rynku \\nPieniężnego. Instrumenty dłużne, w które lokowane  są  aktywa  Wzorcem  (benchmarkiem)  służącym  do  oceny  efektywności\\nSubfunduszu,  mogą  być  emitowane  przez  przedsiębiorstwa,  inwestycji w Jednostki Uczestnictwa Subfunduszu jest stopa zwrotu\\nwładze publiczne lub inne podmioty. składająca się w 60% ze stopy zwrotu z indeksu WIG20, 30% ze stopy\\nzwrotu z indeksu mWIG40 oraz 10% ze stawki WIBID O/N.\\nFundusz może inwestować do 20% wartości Aktywów Subfunduszu \\nłącznie w jednostki uczestnictwa innych funduszy inwestycyjnych  Zalecenie:  Niniejszy  Subfundusz  może  nie  być  odpowiedni\\notwartych oraz tytuły uczestnictwa innych funduszy zagranicznych dla inwestorów, którzy planują wycofać swoje środki w ciągu 5 lat.\\nProfil ryzyka i zysku\\nRyzyko kontrahenta: umowy zawierane z określonymi kontrahentami \\n1 2 3 4 5 6 7\\nsą narażone na ewentualne niewywiązanie się tych kontrahentów \\nz umów zawartych z Subfunduszem, co w efekcie może doprowadzić \\nNiższe ryzyko/Potencjalnie niższe zyski Wyższe ryzyko/Potencjalnie wyższe zyski\\ndo spadku wartości aktywów Subfunduszu.\\nSyntetyczny wskaźnik zysku do ryzyka stanowi miarę zmienności\\nwartości jednostki uczestnictwa. Dane historyczne, takie jak dane Ryzyko płynności: niska płynność oznacza, iż nie ma wystarczającej \\nstosowane  przy  obliczaniu  wskaźnika  syntetycznego,  nie  dają ilości kupujących lub sprzedających dany instrument finansowy, \\npewności co do przyszłego profilu zysku i ryzyka Subfunduszu. co powoduje, że Subfundusz nie będzie mógł efektywnie sprzedać \\nPrzypisanie Subfunduszu do określonej kategorii może z czasem ulec lub kupić danych instrumentów finansowych.\\nzmianie.  Najniższa  kategoria  nie  oznacza  inwestycji  wolnych Ryzyko operacyjne/ryzyko związane z przechowywaniem aktywów: \\nod ryzyka. zdarzenia  zewnętrzne  oraz  błędy  operacyjne,  takie  jak  np. \\nWskaźnik kwalifikuje Subfundusz do kategorii 6 co oznacza, że nabycie niewłaściwa kontrola wewnętrzna, błędy systemów informatycznych \\njego  jednostek  uczestnictwa  wiąże  się  z  wysokim  ryzykiem oraz błędy ludzkie mogą doprowadzić do spadku wartości aktywów \\nponiesienia straty. Subfunduszu.\\nZ  inwestycją  w  jednostki  uczestnictwa  Subfunduszu  wiążą  się Ryzyko  inwestycji  w  instrumenty  pochodne:  stosowanie \\nnastępujące ryzyka, które nie są odpowiednio uwzględnione przez instrumentów pochodnych może zwiększyć ryzyko inwestycji.\\nwskaźnik: Szczegółowe informacje na temat ryzyk związanych\\nRyzyko kredytowe: nabywanie dłużnych papierów wartościowych z  inwestowaniem  w  Subfundusz  znajdują  się  w  prospekcie \\nzwiązane jestz ryzykiem ewentualnego braku możliwości wywiązania informacyjnym Funduszu w Rozdziale IV w części: Subfundusz BNP \\nsię  przez  emitenta  danego  dłużnego  papieru  ze  zobowiązań Paribas Dynamicznego Inwestowania, pkt. 1.\\nwynikających z tego dłużnego papieru wartościowego.\\nOpłaty\\nOpłaty jednorazowe pobierane przed lub po dokonaniu inwestycji Opłaty ponoszone przez inwestora służą pokryciu kosztów działania Subfunduszu, \\nw tym kosztów dystrybucji i wprowadzenia do obrotu. Opłaty te zmniejszają \\nOpłata za nabycie 5,00% potencjalny wzrost z inwestycji w Subfundusz. \\nW przypadku opłaty za nabycie oraz opłaty za umorzenie podawana jest zawsze \\nJest to maksymalna kwota, jaka może zostać pobrana z Państwa\\nmaksymalna wysokość opłat, pomimo iż w niektórych przypadkach opłaty te \\nśrodków przed zainwestowaniem mogą być niższe.\\nOpłata za zamianę stanowi różnicę między obowiązującą opłatą za zbywanie \\nOpłata za odkupienie 0,00%\\njednostek  uczestnictwa  w  subfunduszu  którego  jednostki  uczestnictwa  są \\nJest to maksymalna kwota, jaka może zostać pobrana z Państwa nabywane  w  ramach  zlecenia  zamiany,  a  pobraną  od  uczestnika  opłatą \\nśrodków przed wypłaceniem środków z inwestycji manipulacyjną za zbywanie jednostek uczestnictwa w subfunduszu, którego \\njednostki uczestnictwa są odkupywane. Maksymalna wysokość opłaty za zamianę \\nOpłaty pobierane z Subfunduszu w ciągu roku nie może przekroczyć 1,25% wartości jednostek uczestnictwa podlegających \\nzamianie. \\nOpłaty bieżące 2,81% Opłata za konwersję stanowi różnicę między obowiązującą opłatą za nabycie \\njednostek uczestnictwa w funduszu docelowym, a pobraną od Uczestnika opłatą \\nOpłaty pobierane z Subfunduszu w określonych warunkach za  nabycie  jednostek  uczestnictwa  w  funduszu  źródłowym.  Maksymalna \\nszczególnych wysokość  opłaty  za  konwersję  nie  może  być  wyższa  niż  1,25%  wartości \\nkonwertowanych jednostek uczestnictwa. \\nOpłaty za wyniki 0,00%\\nPodana wysokość rocznych opłat bieżących opiera się na wydatkach roku \\nfinansowego zakończonego w grudniu 2021 roku. Wysokość opłat bieżących może \\nulegać zmianom z roku na rok. \\nTowarzystwo może pobrać wynagrodzenie zmienne za zarządzanie. Jest to \\nuzależnione od wyników zarządzania Subfunduszem w wysokości nie wyższej niż  \\n20% wzrostu Wartości Aktywów Netto Subfunduszu na Jednostkę Uczestnictwa \\nponad stopę równą zmianie wartości „Indeksu Odniesienia” zdefiniowanego w \\nstatucie.\\nSzczegółowe informacje dotyczące opłat zostały opisane w Rozdziale IV w części: \\nSubfundusz  BNP  Paribas  Dynamicznego  Inwestowania,  w  pkt.  5.  prospektu \\ninformacyjnego  Funduszu  oraz  są  zawarte  w  Tabeli  Opłat  dostępnej  u \\nWyniki osiągnięte w przeszłości\\ndystrybutorów oraz na stronie internetowej Towarzystwa.\\n25% Wyniki osiągnięte przez Subfundusz w przeszłości nie stanowią gwarancji \\nosiągnięcia identycznych lub podobnych wyników w przyszłości.\\n20%\\nWykres  wskazuje  wynik  Subfunduszu  z  uwzględnieniem  kosztów \\n15% ponoszonych przez Subfundusz. Podczas obliczeń pominięte zostały opłaty \\n10% za nabycie i odkupienie.\\n5% Data pierwszej wyceny Subfunduszu: 31 marca 2016 r.\\nPoziomem referencyjnym służącym do oceny wyniku Subfunduszu jest \\n0%\\nstopa zwrotu składająca się w 60% ze stopy zwrotu z indeksu WIG20, 30% \\n-5% ze stopy zwrotu z indeksu mWIG40 oraz 10% ze stawki WIBID O/N.\\n-10%\\n-15%\\n2012 2013 2014 2015 2016 2017 2018 2019 2020 2021\\n- - - - - 17,6% -12,8% 0,8% -0,5% 21,9%\\n- - - - - 20,4% -10,1% -3,1% -3,5% 17,0%\\n    Stopa zwrotu jednostek uczestnictwa     Benchmark\\nInformacje praktyczne\\nDepozytariuszem jest Deutsche Bank Polska S.A. Fundusz przewiduje możliwość konwersji Jednostek Uczestnictwa Subfunduszu \\nna jednostki uczestnictwa innego funduszu zarządzanego przez Towarzystwo \\nSubfundusz jest jednym z subfunduszy wydzielonym w ramach funduszu \\npod warunkiem, że statut funduszu, do którego są konwertowane Jednostki \\nBNP Paribas Funduszu Inwestycyjnego Otwartego (BNP Paribas FIO) w \\nUczestnictwa określa dopuszczalność konwersji do takiego funduszu. Sposób i \\nzwiązku  z  tym  prospekt  informacyjny  oraz  roczne  i  półroczne \\nszczegółowe warunki konwersji reguluje prospekt informacyjny Funduszu.\\nsprawozdania finansowe sporządzane są dla całego funduszu BNP Paribas \\nFIO. Subfundusz  został  utworzony  w  ramach  funduszu  BNP  Paribas  FIO  (do \\n15.01.2020 r. działającego pod nazwą BGŻ BNP Paribas FIO) na podstawie \\nŻeby chronić inwestorów, aktywa i zobowiązania każdego subfunduszu są z \\nzezwolenia  udzielonego  przez  Komisję  Nadzoru  Finansowego  (KNF)  na \\nmocy  prawa  oddzielone  od  aktywów  i  zobowiązań  pozostałych \\nprowadzenie działalności na terenie Rzeczypospolitej Polskiej i podlega jej \\nsubfunduszy.\\nnadzorowi.\\nProspekt informacyjny wraz ze statutem BNP Paribas FIO obejmującym \\nSubfundusz  jest  zarządzany  przez  BNP  Paribas  Towarzystwo  Funduszy \\nSubfundusz,  roczne  i  półroczne  sprawozdania  finansowe  i  inne \\nInwestycyjnych S.A. z siedzibą przy ul. Grzybowskiej 78, 00-844 Warszawa, \\nsprawozdania okresowe, tabele opłat oraz inne dodatkowe informacje \\nwpisane do Krajowego Rejestru Sądowego prowadzonego przez Sąd Rejonowy \\ndotyczące Subfunduszu dostępne są w języku polskim bezpłatnie, na \\ndla m.st. Warszawy w Warszawie, XII Wydział Gospodarczy Krajowego Rejestru \\nstronie  internetowej  www.tfi.bnpparibas.pl  a  także  w  siedzibie \\nSądowego,  pod  numerem  KRS  0000031121,  o  kapitale  zakładowym  w \\nTowarzystwa  przy  ul.  Grzybowskiej  78,  00-844  w  Warszawie  oraz  u \\nwysokości  16  692  612,00  zł  opłaconym  w  całości,  NIP:  526-02-10-808,\\ndystrybutorów.\\n(Towarzystwo).\\nDodatkowo  informacja  o  Subfunduszu  w  tym  także  informacje  o \\nTowarzystwo wdrożyło Politykę Wynagrodzeń, która jest dostępna na stronie \\naktualnej  oraz  historycznej  wartości  Jednostki  Uczestnictwa  można \\ninternetowej www.tfi.bnpparibas.pl/polityki-iregulaminy.\\nuzyskać telefonicznie pod numerem 22 588 18 87.\\nTowarzystwo  może  zostać  pociągnięte  do  odpowiedzialności  za  każde \\nPrzepisy podatkowe w Rzeczypospolitej Polskiej mogą mieć wpływ na \\noświadczenie zawarte w niniejszym dokumencie, które wprowadza w błąd, jest \\nosobistą sytuację podatkową inwestora.\\nniezgodne ze stanem faktycznym lub niespójne z odpowiednimi częściami \\nFundusz  przewiduje  możliwości  zamiany  Jednostek  Uczestnictwa  prospektu informacyjnego BNP Paribas FIO.\\nSubfunduszu na jednostki uczestnictwa pozostałych subfunduszy w ramach \\nBNP Paribas FIO. Szczegóły opisane są w Prospekcie Informacyjnym.\\nNiniejsze kluczowe informacje dla Inwestorów są aktualne na dzień 21.09.2022 roku\\n'"
      ]
     },
     "execution_count": 92,
     "metadata": {},
     "output_type": "execute_result"
    }
   ],
   "source": [
    "extract(file_name)"
   ]
  },
  {
   "cell_type": "code",
   "execution_count": 258,
   "id": "9fbf4b2a",
   "metadata": {},
   "outputs": [],
   "source": [
    "text = extract(file_name)\n",
    "#text2 = extract(file_name2)\n",
    "text3 = extract(file_name3)\n",
    "text4 = extract(file_name4)"
   ]
  },
  {
   "cell_type": "markdown",
   "id": "dd07b83d",
   "metadata": {},
   "source": [
    "# Tworzenie kolumn"
   ]
  },
  {
   "cell_type": "markdown",
   "id": "360ede98",
   "metadata": {},
   "source": [
    "3."
   ]
  },
  {
   "cell_type": "code",
   "execution_count": 416,
   "id": "80d7c499",
   "metadata": {},
   "outputs": [],
   "source": [
    "def _3(full_text):\n",
    "    start_vec = full_text.split(\"inwestycyjną\")[1].split(\"\\n\")\n",
    "    NAZWA_SUBFUNDUSZU = [x for x in start_vec  if len(x)>2][0]\n",
    "    return NAZWA_SUBFUNDUSZU"
   ]
  },
  {
   "cell_type": "code",
   "execution_count": 417,
   "id": "4bf0dd6f",
   "metadata": {},
   "outputs": [
    {
     "data": {
      "text/plain": [
       "'BNP Paribas Dynamicznego Inwestowania'"
      ]
     },
     "execution_count": 417,
     "metadata": {},
     "output_type": "execute_result"
    }
   ],
   "source": [
    "start_vec = text.split(\"inwestycyjną\")[1].split(\"\\n\")\n",
    "NAZWA_SUBFUNDUSZU = [x for x in start_vec  if len(x)>2][0]\n",
    "NAZWA_SUBFUNDUSZU"
   ]
  },
  {
   "cell_type": "code",
   "execution_count": 418,
   "id": "eca1b52d",
   "metadata": {},
   "outputs": [
    {
     "data": {
      "text/plain": [
       "'PKO Zabezpieczenia Emerytalnego 2030 '"
      ]
     },
     "execution_count": 418,
     "metadata": {},
     "output_type": "execute_result"
    }
   ],
   "source": [
    "_3(text3)"
   ]
  },
  {
   "cell_type": "markdown",
   "id": "6cdee4c8",
   "metadata": {},
   "source": [
    "7."
   ]
  },
  {
   "cell_type": "code",
   "execution_count": 59,
   "id": "9eb93d77",
   "metadata": {},
   "outputs": [],
   "source": [
    "import re"
   ]
  },
  {
   "cell_type": "code",
   "execution_count": 507,
   "id": "b845d494",
   "metadata": {},
   "outputs": [
    {
     "data": {
      "text/plain": [
       "['2009', '2017', '2020', '2022']"
      ]
     },
     "execution_count": 507,
     "metadata": {},
     "output_type": "execute_result"
    }
   ],
   "source": []
  },
  {
   "cell_type": "markdown",
   "id": "31f6bef6",
   "metadata": {},
   "source": [
    "8."
   ]
  },
  {
   "cell_type": "code",
   "execution_count": 163,
   "id": "1888a044",
   "metadata": {},
   "outputs": [
    {
     "name": "stderr",
     "output_type": "stream",
     "text": [
      "Loading: 100%|█████████████████████████████████████████████████████| 11368252/11368252 [00:20<00:00, 1462637.55bytes/s]"
     ]
    }
   ],
   "source": [
    "from stempel import StempelStemmer\n",
    "stemmer = StempelStemmer.polimorf()"
   ]
  },
  {
   "cell_type": "code",
   "execution_count": 251,
   "id": "15623670",
   "metadata": {},
   "outputs": [],
   "source": [
    "# zawsze występuje odmiana słowa zarządzać\n",
    "\n",
    "def _8(full_text):\n",
    "    text_stemmed = full_text.lower().split(\"cele i polityka inwestycyjna\")[0].split()\n",
    "    tmp = [stemmer.stem(x)==\"zarządzać\" for x in full_text.lower().split(\"cele i polityka inwestycyjna\")[0].split()]\n",
    "\n",
    "    df = pd.DataFrame({'text':text_stemmed, 'boolvec':tmp})\n",
    "    word = df[df['boolvec']==True]['text']\n",
    "\n",
    "    if word.empty:\n",
    "        return None\n",
    "    else:\n",
    "        stemmed = full_text.split(np.array(word)[0])[1].split(\"\\n\")[0].split('S.A.')[0] + \"S.A.\"\n",
    "        upper_words = [x[0].isupper() for x in stemmed.split()]\n",
    "        words = np.array(stemmed.split())[upper_words]\n",
    "        return \" \".join(words)"
   ]
  },
  {
   "cell_type": "code",
   "execution_count": 252,
   "id": "10d120f8",
   "metadata": {
    "scrolled": true
   },
   "outputs": [
    {
     "data": {
      "text/plain": [
       "'BNP Paribas Towarzystwo Funduszy Inwestycyjnych S.A.'"
      ]
     },
     "execution_count": 252,
     "metadata": {},
     "output_type": "execute_result"
    }
   ],
   "source": [
    "_8(text)"
   ]
  },
  {
   "cell_type": "code",
   "execution_count": 253,
   "id": "b493f865",
   "metadata": {},
   "outputs": [
    {
     "data": {
      "text/plain": [
       "'PKO TFI S.A.'"
      ]
     },
     "execution_count": 253,
     "metadata": {},
     "output_type": "execute_result"
    }
   ],
   "source": [
    "_8(text3)"
   ]
  },
  {
   "cell_type": "markdown",
   "id": "f64b497c",
   "metadata": {},
   "source": [
    "9."
   ]
  },
  {
   "cell_type": "code",
   "execution_count": 424,
   "id": "fe9352bc",
   "metadata": {},
   "outputs": [],
   "source": [
    "def _9(full_text):\n",
    "    DATA_AKTUALIZACJI_KIID = full_text.split(\"dzień\")[-1].split(\"\\n\")[0]\n",
    "    return DATA_AKTUALIZACJI_KIID"
   ]
  },
  {
   "cell_type": "code",
   "execution_count": 425,
   "id": "70d71883",
   "metadata": {},
   "outputs": [
    {
     "data": {
      "text/plain": [
       "' 21.09.2022 roku'"
      ]
     },
     "execution_count": 425,
     "metadata": {},
     "output_type": "execute_result"
    }
   ],
   "source": [
    "DATA_AKTUALIZACJI_KIID = text.split(\"dzień\")[-1].split(\"\\n\")[0]\n",
    "DATA_AKTUALIZACJI_KIID"
   ]
  },
  {
   "cell_type": "code",
   "execution_count": 427,
   "id": "001c66e5",
   "metadata": {},
   "outputs": [
    {
     "data": {
      "text/plain": [
       "' 31 sierpnia 2022 roku. '"
      ]
     },
     "execution_count": 427,
     "metadata": {},
     "output_type": "execute_result"
    }
   ],
   "source": [
    "_9(text3)"
   ]
  },
  {
   "cell_type": "markdown",
   "id": "d7c4fada",
   "metadata": {},
   "source": [
    "10."
   ]
  },
  {
   "cell_type": "code",
   "execution_count": 607,
   "id": "6f6c3db0",
   "metadata": {
    "scrolled": true
   },
   "outputs": [],
   "source": [
    "def _10(full_text):\n",
    "\n",
    "    category_text = full_text.split(\"polityka inwestycyjna\")[0]\n",
    "    category_text = category_text.split(\"Polityka Inwestycyjna\")[0]\n",
    "    categories = re.findall(r'\\b[A-Z]\\b',category_text)\n",
    "\n",
    "    if \"S.A.\" in category_text:\n",
    "        categories.remove(\"S\")\n",
    "        categories.remove(\"A\")\n",
    "\n",
    "\n",
    "    return np.unique(categories)\n",
    "\n",
    "#if \"S.A.\" in category_text:\n",
    "    \n",
    "# categories\n",
    "# #[1].split(\"\\n\")[0].split('S.A.')[0]"
   ]
  },
  {
   "cell_type": "code",
   "execution_count": 611,
   "id": "9854e440",
   "metadata": {},
   "outputs": [
    {
     "data": {
      "text/plain": [
       "array(['A', 'C'], dtype='<U1')"
      ]
     },
     "execution_count": 611,
     "metadata": {},
     "output_type": "execute_result"
    }
   ],
   "source": [
    "_10(text)"
   ]
  },
  {
   "cell_type": "markdown",
   "id": "b9b65f0b",
   "metadata": {},
   "source": [
    "11."
   ]
  },
  {
   "cell_type": "markdown",
   "id": "286ec0e6",
   "metadata": {},
   "source": [
    "## 11 ŹLE"
   ]
  },
  {
   "cell_type": "code",
   "execution_count": 432,
   "id": "2247ee4c",
   "metadata": {},
   "outputs": [],
   "source": [
    "def _11(full_text):\n",
    "    CEL_INWESTYCYJNY = \"Celem\"+full_text.lower().split(\"celem\")[1].split('.')[0].replace(\"\\n\",\" \")+\".\"\n",
    "    return CEL_INWESTYCYJNY"
   ]
  },
  {
   "cell_type": "code",
   "execution_count": 433,
   "id": "6f2c3e60",
   "metadata": {},
   "outputs": [
    {
     "data": {
      "text/plain": [
       "'Celem inwestycyjnym subfunduszu jest wzrost wartości aktywów  i instytucji wspólnego inwestowania.'"
      ]
     },
     "execution_count": 433,
     "metadata": {},
     "output_type": "execute_result"
    }
   ],
   "source": [
    "CEL_INWESTYCYJNY = \"Celem\"+text.lower().split(\"celem\")[1].split('.')[0].replace(\"\\n\",\" \")+\".\"\n",
    "CEL_INWESTYCYJNY"
   ]
  },
  {
   "cell_type": "code",
   "execution_count": 439,
   "id": "9f98d683",
   "metadata": {},
   "outputs": [
    {
     "ename": "IndexError",
     "evalue": "list index out of range",
     "output_type": "error",
     "traceback": [
      "\u001b[1;31m---------------------------------------------------------------------------\u001b[0m",
      "\u001b[1;31mIndexError\u001b[0m                                Traceback (most recent call last)",
      "\u001b[1;32m<ipython-input-439-19c1e2e0611e>\u001b[0m in \u001b[0;36m<module>\u001b[1;34m\u001b[0m\n\u001b[1;32m----> 1\u001b[1;33m \u001b[0mtext4\u001b[0m\u001b[1;33m.\u001b[0m\u001b[0mlower\u001b[0m\u001b[1;33m(\u001b[0m\u001b[1;33m)\u001b[0m\u001b[1;33m.\u001b[0m\u001b[0msplit\u001b[0m\u001b[1;33m(\u001b[0m\u001b[1;34m\"celem\"\u001b[0m\u001b[1;33m)\u001b[0m\u001b[1;33m[\u001b[0m\u001b[1;36m1\u001b[0m\u001b[1;33m]\u001b[0m\u001b[1;33m\u001b[0m\u001b[1;33m\u001b[0m\u001b[0m\n\u001b[0m",
      "\u001b[1;31mIndexError\u001b[0m: list index out of range"
     ]
    }
   ],
   "source": [
    "text4.lower().split(\"celem\")"
   ]
  },
  {
   "cell_type": "code",
   "execution_count": 99,
   "id": "19d59c1c",
   "metadata": {
    "scrolled": true
   },
   "outputs": [
    {
     "data": {
      "text/plain": [
       "'Celem subfunduszu jest wzrost wartości jego aktywów w wyniku wzrostu  dokonywaniu lokat w tytuły uczestnictwa instytucji wspólnego inwestowania    wa rtości lokat.'"
      ]
     },
     "execution_count": 99,
     "metadata": {},
     "output_type": "execute_result"
    }
   ],
   "source": [
    "\"Celem\"+text3.lower().split(\"celem\")[1].split('.')[0].replace(\"\\n\",\" \")+\".\""
   ]
  },
  {
   "cell_type": "markdown",
   "id": "0e85288c",
   "metadata": {},
   "source": [
    "13."
   ]
  },
  {
   "cell_type": "code",
   "execution_count": 628,
   "id": "ac24ad5d",
   "metadata": {},
   "outputs": [
    {
     "data": {
      "text/plain": [
       "'\\nFundusz może zawierać umowy mające za przedmiot instrumenty\\nZ  uwzględnieniem  zdania  następnego,  Fundusz  może  lokować  pochodne w celu ograniczenia ryzyka oraz zapewnienia sprawnego\\nod 70% do 110% Wartości Aktywów Netto Subfunduszu w akcje oraz  zarządzania portfelem'"
      ]
     },
     "execution_count": 628,
     "metadata": {},
     "output_type": "execute_result"
    }
   ],
   "source": [
    "vec = ['%' in x for x in text.split('.')]\n",
    "df = pd.DataFrame({'text':text.split('.'), 'boolvec':vec})\n",
    "sentences = np.array(df[df['boolvec']]['text'])\n",
    "sentences[0]"
   ]
  },
  {
   "cell_type": "code",
   "execution_count": null,
   "id": "14b12998",
   "metadata": {},
   "outputs": [],
   "source": []
  },
  {
   "cell_type": "markdown",
   "id": "f8600091",
   "metadata": {},
   "source": [
    "13."
   ]
  },
  {
   "cell_type": "code",
   "execution_count": 67,
   "id": "245b14da",
   "metadata": {},
   "outputs": [
    {
     "data": {
      "text/plain": [
       "['\\nfundusz może zawierać umowy mające za przedmiot instrumenty\\nz  uwzględnieniem  zdania  następnego,  fundusz  może  lokować  pochodne w celu ograniczenia ryzyka oraz zapewnienia sprawnego\\nod 70% do 110% wartości aktywów netto subfunduszu w akcje oraz  zarządzania portfelem',\n",
       " '\\nfundusz może lokować od 0% do 30% wartości aktywów netto \\nfundusz zbywa i odkupuje jednostki uczestnictwa w każdym dniu\\nsubfunduszu w instrumenty o charakterze dłużnym, tj',\n",
       " '\\nfundusz może inwestować do 20% wartości aktywów subfunduszu \\nłącznie w jednostki uczestnictwa innych funduszy inwestycyjnych  zalecenie:  niniejszy  subfundusz  może  nie  być  odpowiedni\\notwartych oraz tytuły uczestnictwa innych funduszy zagranicznych dla inwestorów, którzy planują wycofać swoje środki w ciągu 5 lat',\n",
       " ' jest to \\nuzależnione od wyników zarządzania subfunduszem w wysokości nie wyższej niż  \\n20% wzrostu wartości aktywów netto subfunduszu na jednostkę uczestnictwa \\nponad stopę równą zmianie wartości „indeksu odniesienia” zdefiniowanego w \\nstatucie']"
      ]
     },
     "execution_count": 67,
     "metadata": {},
     "output_type": "execute_result"
    }
   ],
   "source": [
    "splitted = text.lower().split(\"celem\")[1].split('.')\n",
    "splitted = [k for k in splitted if 'aktywów' in k]\n",
    "[k for k in splitted if '%' in k]"
   ]
  },
  {
   "cell_type": "markdown",
   "id": "301b9244",
   "metadata": {},
   "source": [
    "19."
   ]
  },
  {
   "cell_type": "code",
   "execution_count": 644,
   "id": "7f111049",
   "metadata": {},
   "outputs": [],
   "source": [
    "def _19(full_text):\n",
    "\n",
    "    try:\n",
    "        lower_text = full_text.lower().split('ryzyka i zysku')[0].replace(\"\\n\",\" \")\n",
    "        stemmed = [stemmer.stem(x) for x in lower_text.split()]\n",
    "        dict = {'dzień':0, 'tydzień':0, 'miesiąc':0, 'kwartał':0}\n",
    "        for word in stemmed:\n",
    "            if word in dict:\n",
    "                dict[word] +=1\n",
    "\n",
    "        dict2 = {'dzień':'D', 'tydzień':'W', 'miesiąc':'M', 'kwartał':'Q'}\n",
    "    except:\n",
    "        return None\n",
    "    return dict2[max(dict, key=dict.get)]\n",
    "    "
   ]
  },
  {
   "cell_type": "code",
   "execution_count": 645,
   "id": "b59a64e2",
   "metadata": {},
   "outputs": [
    {
     "data": {
      "text/plain": [
       "'D'"
      ]
     },
     "execution_count": 645,
     "metadata": {},
     "output_type": "execute_result"
    }
   ],
   "source": [
    "_19(text4)"
   ]
  },
  {
   "cell_type": "markdown",
   "id": "b4afa064",
   "metadata": {},
   "source": [
    "20."
   ]
  },
  {
   "cell_type": "code",
   "execution_count": 685,
   "id": "e73c034f",
   "metadata": {
    "scrolled": true
   },
   "outputs": [],
   "source": [
    "def _20(full_text):\n",
    "\n",
    "    lower_text = full_text.lower().split('ryzyka i zysku')[0].replace(\"\\n\",\" \")\n",
    "    lower_text = re.sub(r'[.)(]',\"\",lower_text)\n",
    "    stemmed = np.array([stemmer.stem(x) for x in lower_text.split()])\n",
    "    vec = [(x == 'dywidenda') | (x=='wypłacać') for x in stemmed]\n",
    "    df = pd.DataFrame({'text':stemmed, 'boolvec':vec})\n",
    "    indices = df[df['boolvec']].index\n",
    "    is_d = True\n",
    "\n",
    "    for index in indices:\n",
    "        if 'n' in np.array(df[index-10:index+10]['text']):\n",
    "            is_d=False\n",
    "\n",
    "    return is_d"
   ]
  },
  {
   "cell_type": "code",
   "execution_count": 688,
   "id": "d1c09869",
   "metadata": {},
   "outputs": [
    {
     "data": {
      "text/plain": [
       "False"
      ]
     },
     "execution_count": 688,
     "metadata": {},
     "output_type": "execute_result"
    }
   ],
   "source": [
    "_20(text4)"
   ]
  },
  {
   "cell_type": "markdown",
   "id": "123eb6ed",
   "metadata": {},
   "source": [
    "21."
   ]
  },
  {
   "cell_type": "markdown",
   "id": "3d7e779b",
   "metadata": {},
   "source": [
    "23."
   ]
  },
  {
   "cell_type": "code",
   "execution_count": 89,
   "id": "297e24be",
   "metadata": {
    "collapsed": true
   },
   "outputs": [
    {
     "data": {
      "text/plain": [
       "'Syntetyczny wskaźnik zysku do ryzyka stanowi miarę zmienności wartości jednostki uczestnictwa. dane historyczne, takie jak dane ryzyko płynności: niska płynność oznacza, iż nie ma wystarczającej  stosowane  przy  obliczaniu  wskaźnika  syntetycznego,  nie  dają ilości kupujących lub sprzedających dany instrument finansowy,  pewności co do przyszłego profilu zysku i ryzyka subfunduszu. co powoduje, że subfundusz nie będzie mógł efektywnie sprzedać  przypisanie subfunduszu do określonej kategorii może z czasem ulec lub kupić danych instrumentów finansowych. zmianie.  najniższa  kategoria  nie  oznacza  inwestycji  wolnych ryzyko operacyjne/ryzyko związane z przechowywaniem aktywów:  od ryzyka. zdarzenia  zewnętrzne  oraz  błędy  operacyjne,  takie  jak  np.  wskaźnik kwalifikuje subfundusz do kategorii 6 co oznacza, że nabycie niewłaściwa kontrola wewnętrzna, błędy systemów informatycznych  jego  jednostek  uczestnictwa  wiąże  się  z  wysokim  ryzykiem oraz błędy ludzkie mogą doprowadzić do spadku wartości aktywów  poniesienia straty. subfunduszu. z  inwestycją  w  jednostki  uczestnictwa  subfunduszu  wiążą  się ryzyko  inwestycji  w  instrumenty  pochodne:  stosowanie  następujące ryzyka, które nie są odpowiednio uwzględnione przez instrumentów pochodnych może zwiększyć ryzyko inwestycji. wskaźnik: szczegółowe informacje na temat ryzyk związanych ryzyko kredytowe: nabywanie dłużnych papierów wartościowych z  inwestowaniem  w  subfundusz  znajdują  się  w  prospekcie  związane jestz ryzykiem ewentualnego braku możliwości wywiązania informacyjnym funduszu w rozdziale iv w części: subfundusz bnp  się  przez  emitenta  danego  dłużnego  papieru  ze  zobowiązań paribas dynamicznego inwestowania, pkt. 1. wynikających z tego dłużnego papieru wartościowego. opłaty opłaty jednorazowe pobierane przed lub po dokonaniu inwestycji opłaty ponoszone przez inwestora służą pokryciu kosztów działania subfunduszu,  w tym kosztów dystrybucji i wprowadzenia do obrotu. opłaty te zmniejszają  opłata za nabycie 5,00% potencjalny wzrost z inwestycji w subfundusz.  w przypadku opłaty za nabycie oraz opłaty za umorzenie podawana jest zawsze  jest to maksymalna kwota, jaka może zostać pobrana z państwa maksymalna wysokość opłat, pomimo iż w niektórych przypadkach opłaty te  środków przed zainwestowaniem mogą być niższe. opłata za zamianę stanowi różnicę między obowiązującą opłatą za zbywanie  opłata za odkupienie 0,00% jednostek  uczestnictwa  w  subfunduszu  którego  jednostki  uczestnictwa  są  jest to maksymalna kwota, jaka może zostać pobrana z państwa nabywane  w  ramach  zlecenia  zamiany,  a  pobraną  od  uczestnika  opłatą  środków przed wypłaceniem środków z inwestycji manipulacyjną za zbywanie jednostek uczestnictwa w subfunduszu, którego  jednostki uczestnictwa są odkupywane. maksymalna wysokość opłaty za zamianę  opłaty pobierane z subfunduszu w ciągu roku nie może przekroczyć 1,25% wartości jednostek uczestnictwa podlegających  zamianie.  opłaty bieżące 2,81% opłata za konwersję stanowi różnicę między obowiązującą opłatą za nabycie  jednostek uczestnictwa w funduszu docelowym, a pobraną od uczestnika opłatą  opłaty pobierane z subfunduszu w określonych warunkach za  nabycie  jednostek  uczestnictwa  w  funduszu  źródłowym.  maksymalna  szczególnych wysokość  opłaty  za  konwersję  nie  może  być  wyższa  niż  1,25%  wartości  konwertowanych jednostek uczestnictwa.  opłaty za wyniki 0,00% podana wysokość rocznych opłat bieżących opiera się na wydatkach roku  finansowego zakończonego w grudniu 2021 roku. wysokość opłat bieżących może  ulegać zmianom z roku na rok.  towarzystwo może pobrać wynagrodzenie zmienne za zarządzanie. jest to  uzależnione od wyników zarządzania subfunduszem w wysokości nie wyższej niż   20% wzrostu wartości aktywów netto subfunduszu na jednostkę uczestnictwa  ponad stopę równą zmianie wartości „indeksu odniesienia” zdefiniowanego w  statucie. szczegółowe informacje dotyczące opłat zostały opisane w rozdziale iv w części:  subfundusz  bnp  paribas  dynamicznego  inwestowania,  w  pkt.  5.  prospektu  informacyjnego  funduszu  oraz  są  zawarte  w  tabeli  opłat  dostępnej  u  wyniki osiągnięte w przeszłości dystrybutorów oraz na stronie internetowej towarzystwa. 25% wyniki osiągnięte przez subfundusz w przeszłości nie stanowią gwarancji  osiągnięcia identycznych lub podobnych wyników w przyszłości. 20% wykres  wskazuje  wynik  subfunduszu  z  uwzględnieniem  kosztów  15% ponoszonych przez subfundusz. podczas obliczeń pominięte zostały opłaty  10% za nabycie i odkupienie. 5% data pierwszej wyceny subfunduszu: 31 marca 2016 r. poziomem referencyjnym służącym do oceny wyniku subfunduszu jest  0% stopa zwrotu składająca się w 60% ze stopy zwrotu z indeksu wig20, 30%  -5% ze stopy zwrotu z indeksu mwig40 oraz 10% ze stawki wibid o/n. -10% -15% 2012 2013 2014 2015 2016 2017 2018 2019 2020 2021 - - - - - 17,6% -12,8% 0,8% -0,5% 21,9% - - - - - 20,4% -10,1% -3,1% -3,5% 17,0%     stopa zwrotu jednostek uczestnictwa     benchmark informacje praktyczne depozytariuszem jest deutsche bank polska s.a. fundusz przewiduje możliwość konwersji jednostek uczestnictwa subfunduszu  na jednostki uczestnictwa innego funduszu zarządzanego przez towarzystwo  subfundusz jest jednym z subfunduszy wydzielonym w ramach funduszu  pod warunkiem, że statut funduszu, do którego są konwertowane jednostki  bnp paribas funduszu inwestycyjnego otwartego (bnp paribas fio) w  uczestnictwa określa dopuszczalność konwersji do takiego funduszu. sposób i  związku  z  tym  prospekt  informacyjny  oraz  roczne  i  półroczne  szczegółowe warunki konwersji reguluje prospekt informacyjny funduszu. sprawozdania finansowe sporządzane są dla całego funduszu bnp paribas  fio. subfundusz  został  utworzony  w  ramach  funduszu  bnp  paribas  fio  (do  15.01.2020 r. działającego pod nazwą bgż bnp paribas fio) na podstawie  żeby chronić inwestorów, aktywa i zobowiązania każdego subfunduszu są z  zezwolenia  udzielonego  przez  komisję  nadzoru  finansowego  (knf)  na  mocy  prawa  oddzielone  od  aktywów  i  zobowiązań  pozostałych  prowadzenie działalności na terenie rzeczypospolitej polskiej i podlega jej  subfunduszy. nadzorowi. prospekt informacyjny wraz ze statutem bnp paribas fio obejmującym  subfundusz  jest  zarządzany  przez  bnp  paribas  towarzystwo  funduszy  subfundusz,  roczne  i  półroczne  sprawozdania  finansowe  i  inne  inwestycyjnych s.a. z siedzibą przy ul. grzybowskiej 78, 00-844 warszawa,  sprawozdania okresowe, tabele opłat oraz inne dodatkowe informacje  wpisane do krajowego rejestru sądowego prowadzonego przez sąd rejonowy  dotyczące subfunduszu dostępne są w języku polskim bezpłatnie, na  dla m.st. warszawy w warszawie, xii wydział gospodarczy krajowego rejestru  stronie  internetowej  www.tfi.bnpparibas.pl  a  także  w  siedzibie  sądowego,  pod  numerem  krs  0000031121,  o  kapitale  zakładowym  w  towarzystwa  przy  ul.  grzybowskiej  78,  00-844  w  warszawie  oraz  u  wysokości  16  692  612,00  zł  opłaconym  w  całości,  nip:  526-02-10-808, dystrybutorów. (towarzystwo). dodatkowo  informacja  o  subfunduszu  w  tym  także  informacje  o  towarzystwo wdrożyło politykę wynagrodzeń, która jest dostępna na stronie  aktualnej  oraz  historycznej  wartości  jednostki  uczestnictwa  można  internetowej www.tfi.bnpparibas.pl/polityki-iregulaminy. uzyskać telefonicznie pod numerem 22 588 18 87. towarzystwo  może  zostać  pociągnięte  do  odpowiedzialności  za  każde  przepisy podatkowe w rzeczypospolitej polskiej mogą mieć wpływ na  oświadczenie zawarte w niniejszym dokumencie, które wprowadza w błąd, jest  osobistą sytuację podatkową inwestora. niezgodne ze stanem faktycznym lub niespójne z odpowiednimi częściami  fundusz  przewiduje  możliwości  zamiany  jednostek  uczestnictwa  prospektu informacyjnego bnp paribas fio. subfunduszu na jednostki uczestnictwa pozostałych subfunduszy w ramach  bnp paribas fio. szczegóły opisane są w prospekcie informacyjnym. niniejsze kluczowe informacje dla inwestorów są aktualne na dzień 21.09.2022 roku '"
      ]
     },
     "execution_count": 89,
     "metadata": {},
     "output_type": "execute_result"
    }
   ],
   "source": [
    "PROFIL_RYZYKA_I_ZYSKU = \"Syntetyczny\"+text.lower().split(\"profil ryzyka i zysku\")[1].split('syntetyczny')[1].replace(\"\\n\",\" \")\n",
    "PROFIL_RYZYKA_I_ZYSKU"
   ]
  },
  {
   "cell_type": "code",
   "execution_count": 107,
   "id": "638f3b55",
   "metadata": {
    "collapsed": true
   },
   "outputs": [
    {
     "data": {
      "text/plain": [
       "' zaprzestania działalności przez depozytariusza lub ograniczenia jego \\ndziałalności istnieje przejściowe ryzyko ograniczenia dysponowania \\n  przechowywanymi papierami wartościowymi. \\nwskaźnik zysku i ryzyka bazuje na historycznej zmienności wyceny \\nryzyko operacyjne: ryzyko poniesienia strat w wyniku nieadekwatnych \\njednostki. dane te nie są miarodajnym wyznacznikiem przyszłych wyników \\n subfunduszu. ocena ryzyka w miarę upływu czasu może ulegać zmianie.  lub zawodnych procesów wewnętrznych, ludzkich błędów lub błędów \\nsystemów komputerowych, a także zdarzeń zewnętrznych. \\nnajniższa ocena nie oznacza inwestycji wolnych od ryzyka. \\nryzyko instrumentów pochodnych: inwestycja w instrumenty pochodne \\n wskaźnik kwalifikuje subfundusz do kategorii 4 - co wynika z umiarkowanej \\nniesie ryzyko poniesienia strat w wyniku niekorzystnych zmian cen \\nzmienności cen instrumentów będących przedmiotem inwestycji. \\npapierów wartościowych, stóp procentowych, kursów walut lub \\n subfundusz podlega ryzykom, które mogą nie być odpowiednio \\nindeksów giełdowych. zawarcie umowy mającej za przedmiot \\nuwzględnione przez wskaźnik: \\nniewystandaryzowane instrumenty pochodne może dodatkowo \\n ryzyko kredytowe: związane z możliwością niewywiązania się ze swoich  powodować ryzyko niewywiązania się przez kontrahenta z zawartej \\nzobowiązań przez emitenta, którego instrumenty finansowe są przedmiotem  transakcji. \\nlokat subfunduszu lub kontrahenta, z którym zawarto umowy lub transakcje \\n \\nna instrumentach finansowych. niewypłacalność któregokolwiek z   \\nemitentów może negatywnie wpłynąć na wartość aktywów netto. \\n  więcej o ryzykach inwestycji w subfundusz można przeczytać w \\nryzyko płynności: istnieje ryzyko wystąpienia sytuacji, w której nie jest  podrozdziale iiib prospektu informacyjnego. \\nmożliwe dokonanie transakcji papierami wartościowymi bez znaczącego \\n wpływu na ich cenę. \\n \\n \\nopłaty \\n \\nopłaty ponoszone przez inwestora służą pokryciu kosztów działania \\n  subfunduszu, w tym kosztów dystrybucji i wprowadzania jego jednostek \\njednorazowe opłaty pobierane przed  zainwestowaniem  lub po \\n  do obrotu. opłaty te zmniejszają potencjalny wzrost inwestycji. \\nzainwestowaniu: \\n  podana kwota opłat bieżących ma charakter szacunkowy z uwagi na \\n  opłata za nabycie  2,00%  aktualizację w 2022 r. wysokości wynagrodzenia stałego za zarządzanie \\nsubfunduszem. wartość opłat bieżących może co roku ulegać zmianie. \\nopłata za odkupienie  brak \\njednostkowe sprawozdanie subfunduszu za każdy rok obrotowy będzie \\n \\njest to maksymalna kwota, jaka może zostać pobrana z państwa środków  zawierało szczegółowe informacje dotyczące faktycznej wysokości \\nprzed ich zainwestowaniem / przed wypłaceniem środków z inwestycji  pobranych opłat. \\n \\n    opłata za nabycie i opłata za odkupienie są podawane w wysokości \\nopłaty pobierane z subfunduszu w ciągu roku:  maksymalnej. w określonych przypadkach inwestor może ponosić niższe \\n \\n  opłaty. informacje o bieżącej wysokości opłat można uzyskać u \\nopłaty bieżące  1,72% \\ndystrybutora. \\n  opłaty pobierane z subfunduszu w określonych warunkach:  więcej informacji na temat opłat można znaleźć w podrozdziale iiib \\nopłaty za wyniki  brak  prospektu informacyjnego. prospekt dostępny jest na stronie \\ninternetowej www.pkotfi.pl oraz u dystrybutorów. \\n  \\n  wyniki osiągnięte w przeszłości \\n \\n \\nsubfundusz uruchomiono 18 czerwca 2012 r. \\nroczne stopy zwrotu pko zabezpieczenia emerytalnego 2030 \\nwyniki historyczne nie stanowią gwarancji podobnych \\n15% rezultatów inwestycji w przyszłości. wyniki przedstawiono w \\npln z uwzględnieniem kosztów ponoszonych przez subfundusz. \\nkalkulacja nie obejmuje opłat za nabycie/odkupienie jednostek \\n10% uczestnictwa oraz podatku od zysków kapitałowych. \\nstruktura poziomu referencyjnego subfunduszu ulegała zmianie: \\n5% - od początku działalności do 24.07.2014 r.: 45% wig + 55% \\nmerrill lynch polish governments 1-4 yrs (gfpl)  \\n- od 25.07.2014 r. do 31.07.2017 r.: 22,5% wig + 22,5% msci \\n0% acwi usd + 55% merrill lynch g0pl polish governments  \\n- od 01.08.2017 r. do 31.12.2019 r.: 22,5% wig + 22,5% msci \\nworld usd + 55% merrill lynch g0pl polish governments. \\n-5%\\n- od 01.01.2020 r. 30.04.2021 r.: 7,5% wig + 7,5% msci \\nworld usd + 85% merrill lynch (g0pl) polish governments.  \\n-10% - od 01.05.2021 r. benchmarkiem subfunduszu jest: 7,5% \\n2012 2013 2014 2015 2016 2017 2018 2019 2020 2021  wig20 + 7,5% msci world usd + 85% ice bofa poland \\ng overnment index (g0pl). \\nkat. a  -  5,6%  3,4%  -2,2%  3,3%  7,9%  -2,4%  6,3%  4,1%  -4,8% \\nw  ięcej informacji o wynikach osiągniętych w przeszłości można \\nbenchmark  -  5,6%  3,5%  -2,3%  3,9%  12,8%  -1,7%  8,1%  7,3%  -6,6% \\nznaleźć w podrozdziale iiib prospektu informacyjnego. \\n \\n \\n \\ninformacje praktyczne   \\n \\njednostka a jest jednostką reprezentatywną dla jednostek a2, e, f, g, h  niniejszy dokument opisuje subfundusz wydzielony w ramach funduszu. \\noraz j. szczegółowe informacje na temat poszczególnych kategorii  prospekt informacyjny sporządza się dla całego funduszu. sprawozdania \\njednostek uczestnictwa subfunduszu znaleźć można w rozdziale iii  finansowe sporządzane są jako jednostkowe dla subfunduszy oraz \\nprospektu informacyjnego.  połączone dla funduszu. przepisy ustawy z dnia 27 maja 2004 r. o \\nfunduszach inwestycyjnych i zarządzaniu alternatywnymi funduszami \\ndepozytariuszem jest bank handlowy w warszawie s.a. \\ninwestycyjnymi przewidują rozdzielenie aktywów i pasywów każdego z \\nszczegółowe informacje na temat subfunduszu można znaleźć w  subfunduszy. zobowiązania wynikające z poszczególnych subfunduszy \\nprospekcie informacyjnym. prospekt informacyjny wraz ze statutem, roczne  obciążają tylko te subfundusze. zobowiązania, które dotyczą całego \\ni półroczne sprawozdania finansowe oraz tabela opłat dostępne są w  funduszu, obciążają poszczególne subfundusze proporcjonalnie do ich \\njęzyku polskim, bezpłatnie na stronie internetowej www.pkotfi.pl oraz u  udziału w wartości aktywów netto funduszu. \\ndystrybutorów. aktualną wycenę jednostek uczestnictwa można znaleźć na \\nsubfundusz został utworzony w ramach pko zabezpieczenia \\nstronie www.pkotfi.pl. \\nemerytalnego - sfio działającego na podstawie zezwolenia na \\nprzepisy podatkowe w rzeczypospolitej polskiej mogą mieć wpływ na  prowadzenie działalności na terytorium rzeczpospolitej polskiej \\nosobistą sytuację podatkową inwestora.  udzielonego przez komisję nadzoru finansowego i podlega jej \\npko tfi s.a. może zostać pociągnięte do odpowiedzialności za każde  nadzorowi. \\noświadczenie zawarte w niniejszym dokumencie, które wprowadza w błąd,  przedstawione informacje o opłatach za nabycie i odkupienie dotyczą \\njest niezgodne ze stanem faktycznym lub niespójne z odpowiednimi  uczestnictwa w subfunduszu na zasadach ogólnych. w przypadku \\nczęściami prospektu informacyjnego pko zabezpieczenia emerytalnego -  produktów powiązanych z uczestnictwem w subfunduszu, takich jak \\nsfio.  wpi/ike/ikze/ppe, oferowanych na podstawie odrębnych umów i \\npod pewnymi warunkami uczestnik może dokonać przeniesienia jednostek  zasad inwestor może zostać obciążony opłatami, których wysokość jest \\nuczestnictwa dowolnego subfunduszu na jednostki uczestnictwa innego  określona w tych umowach lub zasadach. \\nsubfunduszu. szczegółowe informacje na ten temat znajdują się w rozdziale  informacje o stosowanej w pko tfi s.a. polityce wynagrodzeń dostępne \\niii prospektu informacyjnego oraz u dystrybutorów.  są na stronie internetowej www.pkotfi.pl. \\n \\nniniejsze kluczowe informacje dla inwestorów zostały zaktualizowane na dzień 31 sierpnia 2022 roku. \\n \\n \\n \\n'"
      ]
     },
     "execution_count": 107,
     "metadata": {},
     "output_type": "execute_result"
    }
   ],
   "source": [
    "text3.lower().split(\"1 2 3 4 5 6 7\")[1]"
   ]
  },
  {
   "cell_type": "markdown",
   "id": "619f39a8",
   "metadata": {},
   "source": [
    "26."
   ]
  },
  {
   "cell_type": "code",
   "execution_count": 440,
   "id": "259ac6ba",
   "metadata": {},
   "outputs": [],
   "source": [
    "def _26(full_text):\n",
    "    OPLATA_ZA_NABYCIE = full_text.lower().split(\"opłata za nabycie\")[1].split()[0]\n",
    "    return OPLATA_ZA_NABYCIE"
   ]
  },
  {
   "cell_type": "code",
   "execution_count": 443,
   "id": "6d368dbc",
   "metadata": {
    "scrolled": false
   },
   "outputs": [
    {
     "data": {
      "text/plain": [
       "'5,00'"
      ]
     },
     "execution_count": 443,
     "metadata": {},
     "output_type": "execute_result"
    }
   ],
   "source": [
    "_26(text4)"
   ]
  },
  {
   "cell_type": "markdown",
   "id": "94d6abda",
   "metadata": {},
   "source": [
    "27."
   ]
  },
  {
   "cell_type": "code",
   "execution_count": 458,
   "id": "281b2a7d",
   "metadata": {},
   "outputs": [
    {
     "data": {
      "text/plain": [
       "'Kluczowe Informacje dla Inwestorów\\nNiniejszy dokument zawiera kluczowe informacje dla Inwestorów dotyczące tego funduszu. Nie są to\\nmateriały marketingowe. Dostarczenie tych informacji jest wymogiem prawnym mającym na celu ułatwienie\\nzrozumienia charakteru i ryzyka związanego z inwestowaniem w ten fundusz. Przeczytanie niniejszego\\ndokumentu jest zalecane inwestorowi, aby mógł on podjąć świadomą decyzję inwestycyjną.\\nALIOR Akcji, Subfundusz wydzielony w ramach ALIOR Specjalistycznego Funduszu\\nInwestycyjnego Otwartego (ALIOR SFIO),\\nkategoria jednostek uczestnictwa: A\\nSpółka zarządzająca: Alior TFI S.A., członek grupy Alior Bank\\n \\nCele i polityka inwestycyjna\\n- jednostki uczestnictwa funduszy inwestycyjnych otwartych mających\\nW  co  inwestujemy:  Subfundusz  będzie  dokonywał  lokat,  stosując\\nsiedzibę na terytorium Rzeczypospolitej Polskiej, tytuły uczestnictwa\\nnastępujące zasady ich dywersyfikacji w:\\nfunduszy zagranicznych oraz tytuły uczestnictwa instytucji wspólnego\\n-instrumenty udziałowe dopuszczone do publicznego obrotu, w tym w\\ninwestowania mających siedzibę za granicą, certyfikaty inwestycyjne\\nszczególności  akcje,  kwity  depozytowe,  jednostki  uczestnictwa,\\noraz papiery wartościowe emitowane przez inne instytucje wspólnego\\ncertyfikaty inwestycyjne, tytuły uczestnictwa funduszy inwestycyjnych,\\ninwestowania typu zamkniętego - łącznie do 30% wartości Aktywów\\nfunduszy zagranicznych lub instytucji wspólnego inwestowania, które\\nSubfunduszu.\\nzgodnie z ich statutem lub regulaminem inwestują do 100 % aktywów w\\nDo  50%  wartości  Aktywów  Subfunduszu  mogą  stanowić  aktywa\\ninstrumenty udziałowe (takie jak akcje i obligacje zamienne na akcje)\\nzagraniczne.\\nlub prowadzą politykę inwestycyjną opartą na inwestowaniu w różne\\nklasy aktywów, - od 70% wartości Aktywów Netto Subfunduszu do 100% Do  50%  wartości  Aktywów  Subfunduszu  mogą  stanowić  aktywa\\nwartości Aktywów Subfunduszu, denominowane w walutach obcych.\\nFundusz może inwestować Aktywa Subfunduszu w inne instrumenty\\n- dłużne papiery wartościowe oraz jednostki uczestnictwa, certyfikaty\\nfinansowe  dozwolone  przepisami  prawa  i  postanowieniami  Statutu.\\ninwestycyjne lub tytuły uczestnictwa Funduszy Dłużnych, instrumenty\\nZyski  z  lokat  Subfunduszu  (w  tym  dywidendy)  są  ponownie\\nRynku Pieniężnego oraz krótkoterminowe instrumenty dłużne tj. takie,\\ninwestowane,  nie  są  wypłacane  uczestnikom  i  służą  podwyższeniu\\nktórych okres pozostający do wykupu jest krótszy niż rok, obligacje, w\\nkapitału Subfunduszu. Subfundusz może także zawierać umowy mające\\ntym obligacje przedsiębiorstw oraz papiery wartościowe emitowane,\\nza przedmiot instrumenty pochodne, a także nabywać inne aktywa\\nporęczone lub gwarantowane przez Skarb Państwa, Narodowy Bank\\nszczegółowo wymienione w Prospekcie Informacyjnym ALIOR SFIO.\\nPolski,  jednostkę  samorządu  terytorialnego,  właściwe  centralne,\\nregionalne lub lokalne władze publiczne Państwa członkowskiego, albo Wskaźnik referencyjny: Subfundusz nie stosuje benchmarku.\\nprzez  bank  centralny  Państwa  członkowskiego,  Europejski  Bank\\nUmarzanie  jednostek:  Subfundusz  umożliwia  umorzenie  jednostek\\nCentralny, Unię Europejską lub Europejski Bank Inwestycyjny, państwo\\nuczestnictwa  w każdym Dniu Wyceny, tj. w każdym dniu sesji na\\ninne  niż  Państwo  członkowskie,  albo,  w  przypadku  państwa\\nGiełdzie  Papierów  Wartościowych  w Warszawie  S.A.,  za  wyjątkiem\\nfederalnego,  przez  jednego  z  członków  federacji,  albo  przez\\nwystępujących  w  wyjątkowych  okolicznościach  okresów  zawieszenia\\norganizację  międzynarodową,  do  której  należy  co  najmniej  jedno\\nodkupywania  jednostek  uczestnictwa,  opisanych  szczegółowo  w\\nPaństwo  członkowskie  -  łącznie  od  0  do  30%  wartości  Aktywów\\nProspekcie Informacyjnym ALIOR SFIO.\\nSubfunduszu,\\nZalecenie: Subfundusz może nie być odpowiedni dla inwestorów, którzy\\nplanują wycofać swoje środki w ciągu 5 lat.\\n \\nProfil ryzyka i zysku\\nSubfunduszu:\\n1 2 3 4 5 6 7 1.Ryzyko płynności - niska płynność oznacza, iż nie ma wystarczającej\\nilości kupujących lub sprzedających dany instrument finansowy, co\\npowoduje, że Subfundusz nie będzie mógł efektywnie sprzedać lub\\nkupić danych instrumentów finansowych.\\n2.Ryzyko kontrahenta - umowy zawierane z określonymi kontrahentami\\nsą narażone na ewentualne niewywiązanie się tych kontrahentów z\\numów zawartych z Subfunduszem, co w efekcie może doprowadzić do\\nKrótki  opis  wskaźnika:  Powyższy  wskaźnik  został  sporządzony  na spadku wartości aktywów Subfunduszu.\\npodstawie danych historycznych, które to dane nie dają pewności co do\\n3. Ryzyko operacyjne/ryzyko związane z przechowywaniem aktywów -\\nprzyszłego profilu ryzyka subfunduszu. Nie ma gwarancji, że wskazana\\nzdarzenia zewnętrzne oraz błędy operacyjne, takie jak np. niewłaściwa\\nkategoria ryzyka i zysku pozostanie niezmienna, w związku z czym\\nkontrola  wewnętrzna,  błędy  systemów  informatycznych  oraz  błędy\\nprzypisanie Subfunduszu do określonej kategorii może z czasem ulec\\nludzkie mogą doprowadzić do spadku wartości aktywów Subfunduszu.\\nzmianie. Zaznaczenia wymaga także, iż najniższa kategoria nie oznacza\\ninwestycji wolnej od ryzyka. 4. Ryzyko  instrumentów  pochodnych  -  nabywane  przez  Subfundusz\\ninstrumenty pochodne mogą charakteryzować się dużą zmiennością cen\\nDlaczego  Subfundusz  jest  w  tej  kategorii:  Subfundusz  został\\ni w efekcie powodować dużą zmienność wartości aktywów Subfunduszu,\\nprzypisany  do  kategorii  5  z  uwagi  na  zwiększoną  zmienność  jego\\nw tym także znaczące spadki tej wartości.\\naktywów, stanowiących głównie instrumenty udziałowe z wahającym\\nsię udziałem instrumentów dłużnych Dodatkowe  informacje  o  ryzyku  znajdują  się  w  Prospekcie\\nInformacyjnym ALIOR SFIO.\\nGłówne  ryzyka  związane  z  inwestycją: Powyższy  wskaźnik  nie\\nobejmuje m.in. następujących ryzyk mających istotne znaczenie dla\\n \\nOpłaty\\nPobrane opłaty wykorzystuje się do zarządzania funduszem. Zawierają one także koszty dystrybucji i marketingu jednostek uczestnictwa. Poprzez\\npobranie kosztów zmniejsza się potencjał rozwoju wartości.\\nOpłaty jednorazowe pobierane przed lub po dokonaniu inwestycji W przypadku opłaty za nabycie oraz opłaty za umorzenie podawana\\nOpłata za nabycie 5,00 % jest zawsze maksymalna wysokość opłat, pomimo iż w niektórych\\nprzypadkach opłaty te mogą być niższe. Maksymalna stawka opłaty za\\nOpłata za umorzenie 1,50 %\\nzamianę wynosi 1% środków podlegających zamianie. Poza stawkami\\nJest to maksymalna kwota, jaka może zostać pobrana z Państwa wskazanymi w tabeli Towarzystwo może pobierać także opłatę za\\nśrodków przed ich zainwestowaniem lub przed wypłaceniem zysków z konwersję, opłatę za zamianę oraz opłatę wyrównawczą, szczegółowo\\ninwestycji. opisane  w  Prospekcie  Informacyjnym  ALIOR  SFIO.  Inwestor  może\\nuzyskać  informacje  o  bieżącej  wysokości  opłat  od  doradcy\\nOpłaty pobierane z funduszu w ciągu roku\\nfinansowego lub dystrybutora.\\nOpłaty bieżące 3,17 %\\nWartość liczbowa określająca wysokość opłat i kosztów bieżących jest\\nOpłaty pobierane z funduszu w określonych warunkach szczególnych wartością  szacunkową,  w  związku  z  czym  może  ulegać  zmianie.\\nWysokość opłat bieżących nie obejmuje kosztów transakcyjnych.\\nw wysokości 20% wzrostu Wartości Aktywów Netto\\nSubfunduszu na Jednostkę Uczestnictwa ponad\\nOpłata za wyniki: stopę odniesienia równą stałej wartości 10% w\\nskali roku, szczegółowo opisana w prospekcie\\ninformacyjnym ALIOR SFIO.\\n \\nWyniki osiągnięte w przeszłości\\nInformacje  zawarte  w  wykresie  słupkowym  mają  ograniczoną\\nprzydatność  do  oceny  przyszłych  wyników  Subfunduszu.  Wyniki  te\\nobejmują  także  opłaty  ponoszone  zgodnie  ze  Statutem  przez\\nSubfundusz,  takie  jak  np.  podatki  ponoszone  przez  Fundusz  czy\\nwynagrodzenie Towarzystwa za zarządzanie, nie obejmują jednak opłaty\\nza  nabycie,  opłaty  za  umorzenie,  opłaty  za  konwersję,  opłaty  za\\nzamianę, opłaty wyrównawczej oraz ewentualnych podatków nałożonych\\nna  uczestnika.  Walutą,  w  której  obliczono  wyniki  osiągnięte  w\\nprzeszłości jest złoty polski (PLN).\\nALIOR SFIO został utworzony w 2009 r. Subfundusz został utworzony w\\n2017r., w związku z czym dane za poprzednie okresy nie zostały podane.\\n21.10.2020 r. miała miejsce zmiana polityki inwestycyjnej i przed tą\\ndatą wyniki osiągnięto w warunkach nie mających już zastosowania.\\n \\nInformacje praktyczne\\nDodatkowe informacje: Dodatkowe informacje o Subfunduszu i Funduszu, ceny jednostek, aktualna wersja Prospektu Informacyjnego Funduszu,\\npolityka  wynagrodzeń  oraz  roczne  i  półroczne  sprawozdania  finansowe  dostępne  są  bezpłatnie  w  języku  polskim  na  stronie  internetowej\\nwww.aliortfi.com.\\nZbywane kategorie jednostek uczestnictwa: W ramach Subfunduszu zbywane są jednostki uczestnictwa kategorii A oraz B. Niniejszy dokument\\nzostał sporządzony dla jednostek uczestnictwa kategorii A.\\nZamiana: Inwestor ma prawo do zamiany swojej inwestycji w jednostki uczestnictwa jednego Subfunduszu na jednostki uczestnictwa innego\\nSubfunduszu wydzielonego w ramach ALIOR SFIO pod warunkiem spełnienia dodatkowych kryteriów wskazanych w Prospekcie Informacyjnym ALIOR\\nSFIO. Dodatkowe informacje związane z zamianą jednostek uczestnictwa w ramach ALIOR SFIO dostępne są w Prospekcie Informacyjnym ALIOR SFIO.\\nPodatek: Przepisy podatkowe w państwie członkowskim mogą mieć wpływ na osobistą sytuację podatkową inwestora.\\nDepozytariusz: Depozytariuszem funduszu jest mBank S.A. z siedzibą w Warszawie.\\nInformacja  prawna:  Niniejsze  kluczowe  informacje  dla  inwestorów  zostały  sporządzone  dla  Subfunduszu  wydzielonego  w  ramach  ALIOR\\nSpecjalistycznego Funduszu Inwestycyjnego Otwartego. W związku z powyższym Prospekt Informacyjny i sprawozdania finansowe są opracowywane\\ndla całego Funduszu. Obowiązujące przepisy prawa przewidują rozdzielenie aktywów i pasywów każdego z Subfunduszy. Z powyższego wynika, iż\\nzobowiązania obciążające cały Fundusz obciążają Subfundusz w stosunku do udziału tego Subfunduszu w wartości aktywów netto całego Funduszu, a\\nzobowiązania obciążające tylko jeden Subfundusz nie obciążają innych Subfunduszy. Alior Towarzystwo Funduszy Inwestycyjnych Spółka Akcyjna z\\nsiedzibą w Warszawie może zostać pociągnięta do odpowiedzialności za każde oświadczenie zawarte w niniejszym dokumencie, które wprowadza w\\nbłąd, jest niezgodne ze stanem faktycznym lub niespójne z odpowiednimi częściami Prospektu Informacyjnego ALIOR SFIO.\\nFundusz otrzymał zezwolenie na prowadzenie działalności w Polsce i podlega nadzorowi Komisji Nadzoru Finansowego. \\nNiniejsze Kluczowe informacje dla inwestorów są aktualne na dzień poniedziałek, 26 września 2022 r.\\n'"
      ]
     },
     "execution_count": 458,
     "metadata": {},
     "output_type": "execute_result"
    }
   ],
   "source": [
    "text4"
   ]
  },
  {
   "cell_type": "code",
   "execution_count": 473,
   "id": "780cf458",
   "metadata": {},
   "outputs": [],
   "source": [
    "def _27(full_text):\n",
    "    if len(full_text.lower().split(\"opłata za odkupienie\"))==1:\n",
    "        if len(full_text.lower().split(\"opłata za umorzenie\"))==1:\n",
    "            return None\n",
    "        else:\n",
    "            OPLATA = full_text.lower().split(\"opłata za umorzenie\")[1].split()[0]\n",
    "    else:\n",
    "        OPLATA = full_text.lower().split(\"opłata za odkupienie\")[1].split()[0]\n",
    "    return OPLATA"
   ]
  },
  {
   "cell_type": "code",
   "execution_count": 474,
   "id": "c92b9d6a",
   "metadata": {},
   "outputs": [
    {
     "data": {
      "text/plain": [
       "'1,50'"
      ]
     },
     "execution_count": 474,
     "metadata": {},
     "output_type": "execute_result"
    }
   ],
   "source": [
    "text4.lower().split(\"opłata za umorzenie\")[1].split()[0]"
   ]
  },
  {
   "cell_type": "code",
   "execution_count": 477,
   "id": "5947023e",
   "metadata": {},
   "outputs": [
    {
     "data": {
      "text/plain": [
       "'0,00%'"
      ]
     },
     "execution_count": 477,
     "metadata": {},
     "output_type": "execute_result"
    }
   ],
   "source": [
    "_27(text)"
   ]
  },
  {
   "cell_type": "markdown",
   "id": "e5cb37b1",
   "metadata": {},
   "source": [
    "28."
   ]
  },
  {
   "cell_type": "code",
   "execution_count": 482,
   "id": "71ac2290",
   "metadata": {},
   "outputs": [],
   "source": [
    "def _28(full_text):\n",
    "    try:\n",
    "        OPLATY_BIEZACE = full_text.lower().split(\"opłaty bieżące\")[1].split()[0]\n",
    "    except:\n",
    "        return None\n",
    "    return OPLATY_BIEZACE"
   ]
  },
  {
   "cell_type": "code",
   "execution_count": 485,
   "id": "931ae29d",
   "metadata": {},
   "outputs": [
    {
     "data": {
      "text/plain": [
       "'2,81%'"
      ]
     },
     "execution_count": 485,
     "metadata": {},
     "output_type": "execute_result"
    }
   ],
   "source": [
    "_28(text)"
   ]
  },
  {
   "cell_type": "markdown",
   "id": "21f18d7a",
   "metadata": {},
   "source": [
    "29."
   ]
  },
  {
   "cell_type": "code",
   "execution_count": 486,
   "id": "655d7c48",
   "metadata": {},
   "outputs": [],
   "source": [
    "def _29(full_text):\n",
    "    try:\n",
    "        OPLATY_ZA_WYNIKI = full_text.lower().split(\"opłaty za wyniki\")[1].split()[0]\n",
    "    except:\n",
    "        return None\n",
    "    return OPLATY_ZA_WYNIKI "
   ]
  },
  {
   "cell_type": "code",
   "execution_count": 489,
   "id": "6965e3f7",
   "metadata": {},
   "outputs": [],
   "source": [
    "_29(text4)"
   ]
  },
  {
   "cell_type": "markdown",
   "id": "e5675e3c",
   "metadata": {},
   "source": [
    "31."
   ]
  },
  {
   "cell_type": "code",
   "execution_count": 409,
   "id": "64ad53ff",
   "metadata": {},
   "outputs": [],
   "source": [
    "def _3150(full_text): \n",
    "    \n",
    "    if len(re.split(r'\\n[0-9]{4} ',full_text))<2:\n",
    "        return None\n",
    "    \n",
    "    tmp = re.split(r'\\n[0-9]{4} ',full_text)[1].split(\"\\n\")[0:6]\n",
    "    tmp = [re.sub(\"[a-z]|[A-Z]\", \"\", x) for x in tmp]\n",
    "    tmp = [re.sub(\"[.?!]\", \"\", x) for x in tmp]\n",
    "    years = re.findall(r\"[0-9]{4}\",tmp[0])\n",
    "    values = []\n",
    "    for row in tmp[1:]:\n",
    "        if len(re.findall('%',row))!=0:\n",
    "            values.append(row)\n",
    "\n",
    "    years.insert(0,int(years[0])-1)\n",
    "\n",
    "    values = [x.split() for x in values]\n",
    "    return pd.DataFrame({'Years':years,'Values':values[0],'Values_benchmark':values[1]})"
   ]
  },
  {
   "cell_type": "code",
   "execution_count": 492,
   "id": "4ca49e70",
   "metadata": {},
   "outputs": [
    {
     "data": {
      "text/html": [
       "<div>\n",
       "<style scoped>\n",
       "    .dataframe tbody tr th:only-of-type {\n",
       "        vertical-align: middle;\n",
       "    }\n",
       "\n",
       "    .dataframe tbody tr th {\n",
       "        vertical-align: top;\n",
       "    }\n",
       "\n",
       "    .dataframe thead th {\n",
       "        text-align: right;\n",
       "    }\n",
       "</style>\n",
       "<table border=\"1\" class=\"dataframe\">\n",
       "  <thead>\n",
       "    <tr style=\"text-align: right;\">\n",
       "      <th></th>\n",
       "      <th>Years</th>\n",
       "      <th>Values</th>\n",
       "      <th>Values_benchmark</th>\n",
       "    </tr>\n",
       "  </thead>\n",
       "  <tbody>\n",
       "    <tr>\n",
       "      <th>0</th>\n",
       "      <td>2012</td>\n",
       "      <td>-</td>\n",
       "      <td>-</td>\n",
       "    </tr>\n",
       "    <tr>\n",
       "      <th>1</th>\n",
       "      <td>2013</td>\n",
       "      <td>5,6%</td>\n",
       "      <td>5,6%</td>\n",
       "    </tr>\n",
       "    <tr>\n",
       "      <th>2</th>\n",
       "      <td>2014</td>\n",
       "      <td>3,4%</td>\n",
       "      <td>3,5%</td>\n",
       "    </tr>\n",
       "    <tr>\n",
       "      <th>3</th>\n",
       "      <td>2015</td>\n",
       "      <td>-2,2%</td>\n",
       "      <td>-2,3%</td>\n",
       "    </tr>\n",
       "    <tr>\n",
       "      <th>4</th>\n",
       "      <td>2016</td>\n",
       "      <td>3,3%</td>\n",
       "      <td>3,9%</td>\n",
       "    </tr>\n",
       "    <tr>\n",
       "      <th>5</th>\n",
       "      <td>2017</td>\n",
       "      <td>7,9%</td>\n",
       "      <td>12,8%</td>\n",
       "    </tr>\n",
       "    <tr>\n",
       "      <th>6</th>\n",
       "      <td>2018</td>\n",
       "      <td>-2,4%</td>\n",
       "      <td>-1,7%</td>\n",
       "    </tr>\n",
       "    <tr>\n",
       "      <th>7</th>\n",
       "      <td>2019</td>\n",
       "      <td>6,3%</td>\n",
       "      <td>8,1%</td>\n",
       "    </tr>\n",
       "    <tr>\n",
       "      <th>8</th>\n",
       "      <td>2020</td>\n",
       "      <td>4,1%</td>\n",
       "      <td>7,3%</td>\n",
       "    </tr>\n",
       "    <tr>\n",
       "      <th>9</th>\n",
       "      <td>2021</td>\n",
       "      <td>-4,8%</td>\n",
       "      <td>-6,6%</td>\n",
       "    </tr>\n",
       "  </tbody>\n",
       "</table>\n",
       "</div>"
      ],
      "text/plain": [
       "  Years Values Values_benchmark\n",
       "0  2012      -                -\n",
       "1  2013   5,6%             5,6%\n",
       "2  2014   3,4%             3,5%\n",
       "3  2015  -2,2%            -2,3%\n",
       "4  2016   3,3%             3,9%\n",
       "5  2017   7,9%            12,8%\n",
       "6  2018  -2,4%            -1,7%\n",
       "7  2019   6,3%             8,1%\n",
       "8  2020   4,1%             7,3%\n",
       "9  2021  -4,8%            -6,6%"
      ]
     },
     "execution_count": 492,
     "metadata": {},
     "output_type": "execute_result"
    }
   ],
   "source": [
    "_3150(text3)"
   ]
  },
  {
   "cell_type": "markdown",
   "id": "a89874b3",
   "metadata": {},
   "source": [
    "52. Założenie, że struktura = depozytariuszem ... jest"
   ]
  },
  {
   "cell_type": "code",
   "execution_count": 493,
   "id": "23c67a5a",
   "metadata": {},
   "outputs": [],
   "source": [
    "def _52(full_text):\n",
    "    try:\n",
    "        name = full_text.lower().split(\"depozytariuszem\")[1].split(\". \")[0].split(\"jest\")[1]\n",
    "    except:\n",
    "        return None\n",
    "    return name"
   ]
  },
  {
   "cell_type": "code",
   "execution_count": 496,
   "id": "cf20ac4a",
   "metadata": {},
   "outputs": [
    {
     "data": {
      "text/plain": [
       "' mbank s.a'"
      ]
     },
     "execution_count": 496,
     "metadata": {},
     "output_type": "execute_result"
    }
   ],
   "source": [
    "_52(text4)"
   ]
  },
  {
   "cell_type": "markdown",
   "id": "b66cac02",
   "metadata": {},
   "source": [
    "53. "
   ]
  },
  {
   "cell_type": "code",
   "execution_count": 497,
   "id": "d1cefaba",
   "metadata": {},
   "outputs": [],
   "source": [
    "def _53(full_text):\n",
    "    try:\n",
    "        krs = re.findall(r'[0-9]{10}',full_text.lower().split(\"informacje praktyczne\")[1])\n",
    "    except:\n",
    "        return None\n",
    "    return krs"
   ]
  },
  {
   "cell_type": "code",
   "execution_count": 500,
   "id": "2a4abede",
   "metadata": {},
   "outputs": [
    {
     "data": {
      "text/plain": [
       "[]"
      ]
     },
     "execution_count": 500,
     "metadata": {},
     "output_type": "execute_result"
    }
   ],
   "source": [
    "_53(text4)"
   ]
  },
  {
   "cell_type": "markdown",
   "id": "f866d4e2",
   "metadata": {},
   "source": [
    "54."
   ]
  },
  {
   "cell_type": "code",
   "execution_count": 501,
   "id": "49f9db19",
   "metadata": {},
   "outputs": [],
   "source": [
    "def _54(full_text):\n",
    "    try:\n",
    "        nip = re.findall(r'[0-9]{3}-[0-9]{2}-[0-9]{2}-[0-9]{3}',full_text.lower().split(\"informacje praktyczne\")[1])\n",
    "    except:\n",
    "        return None\n",
    "    return nip"
   ]
  },
  {
   "cell_type": "code",
   "execution_count": 504,
   "id": "ecaa2886",
   "metadata": {},
   "outputs": [
    {
     "data": {
      "text/plain": [
       "[]"
      ]
     },
     "execution_count": 504,
     "metadata": {},
     "output_type": "execute_result"
    }
   ],
   "source": [
    "_54(text4)"
   ]
  }
 ],
 "metadata": {
  "kernelspec": {
   "display_name": "Python 3",
   "language": "python",
   "name": "python3"
  },
  "language_info": {
   "codemirror_mode": {
    "name": "ipython",
    "version": 3
   },
   "file_extension": ".py",
   "mimetype": "text/x-python",
   "name": "python",
   "nbconvert_exporter": "python",
   "pygments_lexer": "ipython3",
   "version": "3.8.8"
  }
 },
 "nbformat": 4,
 "nbformat_minor": 5
}
