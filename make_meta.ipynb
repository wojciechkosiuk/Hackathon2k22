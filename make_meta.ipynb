{
 "cells": [
  {
   "cell_type": "code",
   "execution_count": 2,
   "metadata": {},
   "outputs": [
    {
     "name": "stderr",
     "output_type": "stream",
     "text": [
      "Loading: 100%|██████████| 11368252/11368252 [00:06<00:00, 1634589.47bytes/s]\n"
     ]
    }
   ],
   "source": [
    "import pandas as pd\n",
    "import os\n",
    "from pdf_reader import extract\n",
    "from sprawdz_czy_kiid import get_list_of_kids\n",
    "\n",
    "kiid_paths = get_list_of_kids()"
   ]
  },
  {
   "cell_type": "code",
   "execution_count": 4,
   "metadata": {},
   "outputs": [],
   "source": [
    "import numpy as np"
   ]
  },
  {
   "cell_type": "code",
   "execution_count": 9,
   "metadata": {},
   "outputs": [],
   "source": [
    "meta = pd.DataFrame(columns=[\"ID_KIID\",\"ID_ZESPOLU\",\"NAZWA_PLIKU\"])\n",
    "i=1\n",
    "for row,kiid_path in enumerate(kiid_paths):\n",
    "    NAZWA_PLIKU = kiid_path.replace('KIID/','')\n",
    "    meta.loc[row,:] = [\n",
    "        i, 13, NAZWA_PLIKU\n",
    "    ]\n",
    "    i+=1\n"
   ]
  },
  {
   "cell_type": "code",
   "execution_count": 10,
   "metadata": {},
   "outputs": [],
   "source": [
    "meta.to_csv(\"mISIe_KIID_META.csv\",index=False,encoding='cp1250',sep=';')"
   ]
  },
  {
   "cell_type": "code",
   "execution_count": null,
   "metadata": {},
   "outputs": [],
   "source": []
  }
 ],
 "metadata": {
  "kernelspec": {
   "display_name": "Python 3.9.12 ('base')",
   "language": "python",
   "name": "python3"
  },
  "language_info": {
   "codemirror_mode": {
    "name": "ipython",
    "version": 3
   },
   "file_extension": ".py",
   "mimetype": "text/x-python",
   "name": "python",
   "nbconvert_exporter": "python",
   "pygments_lexer": "ipython3",
   "version": "3.9.12"
  },
  "orig_nbformat": 4,
  "vscode": {
   "interpreter": {
    "hash": "7d4380e49fcd4eef763c0c2e57ada85a33768829fa8305b76b1a7b66bad8d805"
   }
  }
 },
 "nbformat": 4,
 "nbformat_minor": 2
}
