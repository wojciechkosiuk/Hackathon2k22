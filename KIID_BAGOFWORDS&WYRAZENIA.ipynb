{
 "cells": [
  {
   "cell_type": "markdown",
   "id": "2c6d19b8",
   "metadata": {},
   "source": [
    "### Wczytanie danych"
   ]
  },
  {
   "cell_type": "code",
   "execution_count": 82,
   "id": "76485b41",
   "metadata": {},
   "outputs": [],
   "source": [
    "import requests\n",
    "from bs4 import BeautifulSoup\n",
    "import numpy as np\n",
    "import pandas as pd\n",
    "from sklearn.feature_extraction.text import CountVectorizer\n",
    "import re\n",
    "import string\n",
    "from stempel import StempelStemmer\n",
    "\n"
   ]
  },
  {
   "cell_type": "code",
   "execution_count": 263,
   "id": "eee06b38",
   "metadata": {},
   "outputs": [],
   "source": [
    "#dodać taki df do pliku:\n",
    "# kiid_text = {'ID_KIID':[1,2,3,...],\n",
    "#    'TEKST':[cały string z tekstem z pdf nr 1, nr2, nr3, ...]} (w tekście nie ma już \\n )!\n",
    "#    df_kiid_text = pd.DataFrame(data=kiid_text)\n",
    "# stopword.txt pobrany\n",
    "df_kiid_text = pd.read_csv('data.csv')#zamienić na ścieżke do pliku\n",
    "\n",
    "\n"
   ]
  },
  {
   "cell_type": "markdown",
   "id": "792a1c83",
   "metadata": {},
   "source": [
    "### Czyszczenie"
   ]
  },
  {
   "cell_type": "code",
   "execution_count": 389,
   "id": "e6d0445c",
   "metadata": {},
   "outputs": [],
   "source": [
    "\n",
    "\n",
    "def clean_text_round1(text):\n",
    "    #Tekst do małych liter, usunięcie znaków interpunkcyjnych, słów zawierających litery\n",
    "    text = text.lower()\n",
    "    text = re.sub('[%s]' % re.escape(string.punctuation), '', text)\n",
    "    text = re.sub('\\w*\\d\\w*', '', text)\n",
    "    return text\n",
    "\n",
    "round1 = lambda x: clean_text_round1(x)\n",
    "\n",
    "def clean_text_round2(text):\n",
    "    #Usunięcie stop wyrazów\n",
    "    with open('stopwords.txt') as f:\n",
    "        \n",
    "        stopwords = []\n",
    "        for line in f:\n",
    "            line=line.strip()\n",
    "            stopwords.append(line)\n",
    "        \n",
    "        for stopword in stopwords:\n",
    "            text = re.sub(r\"\\b%s\\b\" %stopword, '', text)\n",
    "    return text\n",
    "\n",
    "round2 = lambda x: clean_text_round2(x)\n"
   ]
  },
  {
   "cell_type": "code",
   "execution_count": 402,
   "id": "c77ff947",
   "metadata": {},
   "outputs": [],
   "source": [
    "data_clean = pd.DataFrame(df_kiid_text.TEKST.apply(round1))\n",
    "data_clean2 = pd.DataFrame(data_clean.TEKST.apply(round2))\n",
    "data_clean['ID_KIID']=df_kiid_text.ID_KIID\n",
    "data_clean2['ID_KIID']=df_kiid_text.ID_KIID"
   ]
  },
  {
   "cell_type": "markdown",
   "id": "4fb81dea",
   "metadata": {},
   "source": [
    "### Tabela KIID_BAGOFWORDS_S"
   ]
  },
  {
   "cell_type": "code",
   "execution_count": 415,
   "id": "d966ea37",
   "metadata": {},
   "outputs": [],
   "source": [
    "\n",
    "cv = CountVectorizer()\n",
    "data_cv = cv.fit_transform(data_clean.TEKST)\n",
    "data_dtm = pd.DataFrame(data_cv.toarray(), columns=cv.get_feature_names()) #rozdzielenie i zliczenie słów\n",
    "data_dtm.index = data_clean.index\n",
    "data_dtm['ID_KIID']=df_kiid_text.ID_KIID\n",
    "\n",
    "df_KIID_BAGOFWORDS_S= data_dtm.melt(id_vars=['ID_KIID'])\n",
    "df_KIID_BAGOFWORDS_S.columns = [\"ID_KIID\",\"SLOWO\",\"LICZBA_WYSTAPIEN\"]\n",
    "df_KIID_BAGOFWORDS_S = df_KIID_BAGOFWORDS_S[df_KIID_BAGOFWORDS_S.LICZBA_WYSTAPIEN != 0]  #usunięcie wierszy w których liczność jest zero\n",
    "df_KIID_BAGOFWORDS_S['ID_ZESPOLU'] = 13  #dodanie id zespolu\n",
    "df_KIID_BAGOFWORDS_S = df_KIID_BAGOFWORDS_S[['ID_KIID','ID_ZESPOLU','SLOWO','LICZBA_WYSTAPIEN']] #zamiana kolejności kolumn\n",
    "df_KIID_BAGOFWORDS_S = df_KIID_BAGOFWORDS_S.reset_index()\n",
    "\n",
    "#df_KIID_BAGOFWORDS_S to ostateczny df dla KIID_BAGOFWORDS_S\n",
    "\n"
   ]
  },
  {
   "cell_type": "markdown",
   "id": "6bdc5bc8",
   "metadata": {},
   "source": [
    "### Tabela KIID_BAGOFWORDS_N"
   ]
  },
  {
   "cell_type": "code",
   "execution_count": 67,
   "id": "c44d25ea",
   "metadata": {},
   "outputs": [
    {
     "name": "stderr",
     "output_type": "stream",
     "text": [
      "Loading: 100%|███████████████| 11368252/11368252 [00:18<00:00, 600044.26bytes/s]\n"
     ]
    }
   ],
   "source": [
    "stemmer = StempelStemmer.polimorf()"
   ]
  },
  {
   "cell_type": "code",
   "execution_count": 420,
   "id": "63ab6c08",
   "metadata": {
    "scrolled": true
   },
   "outputs": [],
   "source": [
    "cv = CountVectorizer()\n",
    "data_cv = cv.fit_transform(data_clean2.TEKST)  #teraz na tekście wyczyszczonym ze stop słów\n",
    "data_dtm = pd.DataFrame(data_cv.toarray(), columns=cv.get_feature_names()) #rozdzielenie i zliczenie słów\n",
    "data_dtm.index = data_clean2.index\n",
    "\n",
    "\n",
    "list_stemmer = []             #normalizacja końcówek\n",
    "for word in data_dtm.columns :\n",
    "    list_stemmer.append(stemmer.stem(word))\n",
    "    \n",
    "data_dtm.columns = list_stemmer\n",
    "data_dtm= data_dtm.groupby(by=data_dtm.columns, axis=1).sum()\n",
    "data_dtm['ID_KIID']=df_kiid_text.ID_KIID\n",
    "df_KIID_BAGOFWORDS_N= data_dtm.melt(id_vars=['ID_KIID'])\n",
    "df_KIID_BAGOFWORDS_N.columns = [\"ID_KIID\",\"SLOWO\",\"LICZBA_WYSTAPIEN\"]\n",
    "df_KIID_BAGOFWORDS_N['ID_ZESPOLU'] = 13   #dodanie id zespolu\n",
    "df_KIID_BAGOFWORDS_N = df_KIID_BAGOFWORDS_N[['ID_KIID','ID_ZESPOLU','SLOWO','LICZBA_WYSTAPIEN']] #zamiana kolejności kolumn\n",
    "df_KIID_BAGOFWORDS_N = df_KIID_BAGOFWORDS_N.reset_index()\n",
    "\n",
    "\n",
    "#df_KIID_BAGOFWORDS_N to ostateczny df dla KIID_BAGOFWORDS_N\n",
    "\n"
   ]
  },
  {
   "cell_type": "markdown",
   "id": "7d144fc4",
   "metadata": {},
   "source": [
    "### Tabela KIID_WYRAZENIA"
   ]
  },
  {
   "cell_type": "code",
   "execution_count": 426,
   "id": "b02b8dd4",
   "metadata": {},
   "outputs": [],
   "source": [
    "w_wyrazenia = [\"Kluczowe informacje dla inwestorów\",\n",
    "\"Niniejszy dokument zawiera kluczowe informacje dla inwestorów dotyczące tego funduszu. Nie są to materiały marketingowe. Dostarczenie tych informacji jest wymogiem prawnym mającym na celu ułatwienie zrozumienia charakteru i ryzyka związanego z inwestowaniem w ten fundusz. Przeczytanie niniejszego dokumentu jest zalecane inwestorowi, aby mógł on podjąć świadomą decyzję inwestycyjną.\",\n",
    "\"Niniejsze kluczowe informacje dla inwestorów są aktualne na dzień\",\n",
    " \"Fundusz otrzymał zezwolenie na prowadzenie działalności w\",\n",
    "\"Zalecenie: niniejszy fundusz może nie być odpowiedni dla inwestorów, którzy planują wycofać swoje środki w ciągu\",\n",
    "\"może zostać pociągnięta do odpowiedzialności za każde oświadczenie zawarte w niniejszym dokumencie, które wprowadza w błąd, jest niezgodne ze stanem faktycznym lub niespójne z odpowiednimi częściami prospektu emisyjnego UCITS.\",\n",
    "\"Opłaty jednorazowe pobierane przed lub po dokonaniu inwestycji\",\n",
    " \"Opłata za subskrypcję\",\n",
    "\"Opłata za umorzenie\",\n",
    "\"Opłaty pobierane z funduszu w ciągu roku\",\n",
    "\"Opłaty bieżące\",\n",
    "\"Opłaty pobierane z funduszu w określonych warunkach szczególnych\",\n",
    "\"Opłata za wyniki\",\n",
    "\"Cele i polityka inwestycyjna\",\n",
    "\"Profil ryzyka i zysku\",\n",
    "\"Opłaty\",\n",
    "\"Wyniki osiągnięte w przeszłości\",\n",
    "\"Informacje praktyczne\"]  #lista wyrażeń kluczowych"
   ]
  },
  {
   "cell_type": "code",
   "execution_count": 427,
   "id": "cdeba7f0",
   "metadata": {},
   "outputs": [],
   "source": [
    "import string\n",
    "import math\n",
    "def check_expresion(x,y,z):  #funkcja sprawdza czy dane wyrażenie 'y', jest w tekście 'x'\n",
    "    y = y.lower()            #z błędem 'z' (wpisany w systemie dziesiętnym np. błąd 5% to z=0.05), liczbę znaków na błąd zaokrąglam w górę od długości wyrażenia\n",
    "    y_clear = re.sub('\\w*\\d\\w*', '', y)\n",
    "    y_clear = re.sub('[%s]' % re.escape(string.punctuation), '', y_clear)\n",
    "    y_clear = re.sub(r'\\s+', '', y_clear)\n",
    "\n",
    "    x = x.lower()\n",
    "\n",
    "    for i in range(0, len(x)-len(y)+1):\n",
    "\n",
    "        sent = x[i:math.ceil(i+2*z*len(y)+len(y))]\n",
    "\n",
    "        clear_sent = re.sub('\\w*\\d\\w*', '', sent)\n",
    "        clear_sent = re.sub('[%s]' % re.escape(string.punctuation), '', clear_sent)\n",
    "        clear_sent = re.sub(r'\\s+', '', clear_sent)\n",
    "\n",
    "        diff = 0\n",
    "        if (y_clear in clear_sent):\n",
    "            n_y = 0\n",
    "            n_s = 0\n",
    "            while(n_y<len(y) and n_s<len(s)):\n",
    "                ch_y = y[n_y]\n",
    "                ch_s = sent[n_s]\n",
    "\n",
    "                if ch_y == ch_s:   #jak takie same to idę dalej\n",
    "                    n_y=n_y+1\n",
    "                    n_s=n_s+1\n",
    "                else :   #teraz przypadki co się nie zgadza i naliczam różniące się znaki\n",
    "                    diff=diff+1\n",
    "                    if ch_y.isalpha() and ch_s.isalpha(): #w zależności od przypadku inaczej zmieniam iteratory\n",
    "                        n_y=n_y+1                         \n",
    "                        n_s=n_s+1\n",
    "                    elif ch_s.isspace() and (ch_y in string.punctuation):\n",
    "                        n_y=n_y+1        #przykładowo jeżeli ktoś zamiast kropki dał w dokumencie spację \n",
    "                        n_s=n_s+1        #przechodzę do następnego znaku w obu iteratorach\n",
    "\n",
    "                    elif ch_s.isspace(): #przykładowo jeśli mam dodatkową spację \n",
    "                        n_y=n_y          #to chcę przejść dalej znak w dokumencie, a zostawić w wyrażeniu\n",
    "                        n_s=n_s+1\n",
    "\n",
    "                    elif (ch_s in string.punctuation) and (ch_y in string.punctuation) :\n",
    "                        n_y=n_y+1\n",
    "                        n_s=n_s+1\n",
    "\n",
    "                    elif ch_s in string.punctuation:\n",
    "                        n_y=n_y\n",
    "                        n_s=n_s+1\n",
    "                    elif ch_y in string.punctuation and ch_s.isalpha():\n",
    "                        n_y=n_y+1\n",
    "                        n_s=n_s\n",
    "                    else:\n",
    "                        n_y=n_y+1\n",
    "                        n_s=n_s+1\n",
    "            if diff<=math.ceil(len(y)*z):\n",
    "                return True\n",
    "\n",
    "        \n",
    "    return False\n",
    "            \n",
    "                                      \n",
    "                                      "
   ]
  },
  {
   "cell_type": "code",
   "execution_count": 428,
   "id": "18580a3b",
   "metadata": {},
   "outputs": [],
   "source": [
    "df_KIID_WYRAZENIA = pd.DataFrame(columns=w_wyrazenia) \n",
    "df_KIID_WYRAZENIA['ID_KIID'] = df_kiid_text.ID_KIID\n",
    "for id in df_kiid_text.ID_KIID:  #sprawdzanie czy w danym dokumencie wystąpiło dane wyrażenie i dodanie do tabeli wartości boolean\n",
    "    for w in w_wyrazenia:\n",
    "          df_KIID_WYRAZENIA.loc[df_KIID_WYRAZENIA.ID_KIID==id,w] = check_expresion(df_kiid_text[df_kiid_text.ID_KIID==id].TEKST.values[0],w,0.05)\n"
   ]
  },
  {
   "cell_type": "code",
   "execution_count": 429,
   "id": "64db157a",
   "metadata": {},
   "outputs": [],
   "source": [
    "df_KIID_WYRAZENIA = df_KIID_WYRAZENIA.melt(id_vars=['ID_KIID'])    #przekształcenie tabeli\n",
    "df_KIID_WYRAZENIA.columns = [\"ID_KIID\",\"WYRAZENIE\",\"FLAGA_WYSTAPIENIA\"]\n",
    "df_KIID_WYRAZENIA['ID_ZESPOLU'] = 13   #dodanie id zespolu\n",
    "df_KIID_WYRAZENIA = df_KIID_WYRAZENIA[['ID_KIID','ID_ZESPOLU','WYRAZENIE','FLAGA_WYSTAPIENIA']] #zamiana kolejności kolumn\n",
    "#df_KIID_WYRAZENIA to ostateczny df dla KIID_WYRAZENIA\n"
   ]
  },
  {
   "cell_type": "markdown",
   "id": "fd81b645",
   "metadata": {},
   "source": [
    "### Zapisanie do csv"
   ]
  },
  {
   "cell_type": "code",
   "execution_count": null,
   "id": "58dd7059",
   "metadata": {},
   "outputs": [],
   "source": [
    "df_KIID_BAGOFWORDS_S.to_csv('mISIe_KIID_BAGOFWORDS_S.csv') #poprawić zapis\n",
    "df_KIID_BAGOFWORDS_N.to_csv('mISIe_KIID_BAGOFWORDS_N.csv') #poprawić zapis\n",
    "df_KIID_WYRAZENIA.to_csv('mISIe_KIID_WYRAZENIA.csv') #poprawić zapis\n",
    "\n",
    "\n"
   ]
  }
 ],
 "metadata": {
  "kernelspec": {
   "display_name": "Python 3 (ipykernel)",
   "language": "python",
   "name": "python3"
  },
  "language_info": {
   "codemirror_mode": {
    "name": "ipython",
    "version": 3
   },
   "file_extension": ".py",
   "mimetype": "text/x-python",
   "name": "python",
   "nbconvert_exporter": "python",
   "pygments_lexer": "ipython3",
   "version": "3.9.7"
  }
 },
 "nbformat": 4,
 "nbformat_minor": 5
}
